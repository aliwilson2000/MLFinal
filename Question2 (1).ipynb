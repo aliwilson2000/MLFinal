{
 "cells": [
  {
   "cell_type": "markdown",
   "id": "e3b6b0a6",
   "metadata": {},
   "source": [
    "**Code for understanding this file:**\n",
    "- <font color=blue>Questions are put in blue <font color=black> \n",
    "- Answers are put in black"
   ]
  },
  {
   "cell_type": "markdown",
   "id": "68e27800",
   "metadata": {},
   "source": [
    "Before starting these exercises we have imported some libraries:"
   ]
  },
  {
   "cell_type": "code",
   "execution_count": 340,
   "id": "9270a423",
   "metadata": {},
   "outputs": [
    {
     "name": "stdout",
     "output_type": "stream",
     "text": [
      "%pylab is deprecated, use %matplotlib inline and import the required libraries.\n",
      "Populating the interactive namespace from numpy and matplotlib\n"
     ]
    }
   ],
   "source": [
    "from pandas import Series, DataFrame\n",
    "import pandas as pd\n",
    "%pylab inline\n",
    "\n",
    "import matplotlib.pyplot as plt\n",
    "\n",
    "\n",
    "import warnings\n",
    "warnings.filterwarnings('ignore')"
   ]
  },
  {
   "cell_type": "markdown",
   "id": "7f30c8bc",
   "metadata": {},
   "source": [
    "# Wrangling the Billboard Top 100"
   ]
  },
  {
   "cell_type": "markdown",
   "id": "82ac89c4",
   "metadata": {},
   "source": [
    "## Part (a):"
   ]
  },
  {
   "cell_type": "markdown",
   "id": "58d28be1",
   "metadata": {},
   "source": [
    "<font color=blue>\n",
    "Consider the data in billboard.csv containing every song to appear on the weekly Billboard Top 100 chart since 1958, up through the middle of 2021. Each row of this data corresponds to a single song in a single week. For our purposes, the relevant columns here are:\n",
    "\n",
    "- performer: who performed the song\n",
    "- song: the title of the song\n",
    "- year: year (1958 to 2021)\n",
    "- week: chart week of that year (1, 2, etc)\n",
    "- week_position: what position that song occupied that week on the Billboard top 100 chart."
   ]
  },
  {
   "cell_type": "markdown",
   "id": "9df8a5fb",
   "metadata": {},
   "source": [
    "<font color=blue>\n",
    "    Make a table of the top 10 most popular songs since 1958, as measured by the total number of weeks that a song spent on the Billboard Top 100. Note that these data end in week 22 of 2021, so the most popular songs of 2021 will not have up-to-the-minute data.\n",
    "<br>\n",
    "    \n",
    "Your table should have 10 rows and 3 columns: performer, song, and count, where count represents the number of weeks that song appeared in the Billboard Top 100. Make sure the entries are sorted in descending order of the count variable, so that the more popular songs appear at the top of the table. Give your table a short caption describing what is shown in the table."
   ]
  },
  {
   "cell_type": "markdown",
   "id": "c6a28a03",
   "metadata": {},
   "source": [
    "To start I have just created a new dataframe from the imported version. This dataframe contains only the relevant columns mentioned in the brief."
   ]
  },
  {
   "cell_type": "code",
   "execution_count": 407,
   "id": "ff48e510",
   "metadata": {},
   "outputs": [
    {
     "data": {
      "text/html": [
       "<div>\n",
       "<style scoped>\n",
       "    .dataframe tbody tr th:only-of-type {\n",
       "        vertical-align: middle;\n",
       "    }\n",
       "\n",
       "    .dataframe tbody tr th {\n",
       "        vertical-align: top;\n",
       "    }\n",
       "\n",
       "    .dataframe thead th {\n",
       "        text-align: right;\n",
       "    }\n",
       "</style>\n",
       "<table border=\"1\" class=\"dataframe\">\n",
       "  <thead>\n",
       "    <tr style=\"text-align: right;\">\n",
       "      <th></th>\n",
       "      <th>performer</th>\n",
       "      <th>song</th>\n",
       "      <th>year</th>\n",
       "      <th>week</th>\n",
       "      <th>week_position</th>\n",
       "    </tr>\n",
       "  </thead>\n",
       "  <tbody>\n",
       "    <tr>\n",
       "      <th>0</th>\n",
       "      <td>Patty Duke</td>\n",
       "      <td>Don't Just Stand There</td>\n",
       "      <td>1965</td>\n",
       "      <td>29</td>\n",
       "      <td>34</td>\n",
       "    </tr>\n",
       "    <tr>\n",
       "      <th>1</th>\n",
       "      <td>Patty Duke</td>\n",
       "      <td>Don't Just Stand There</td>\n",
       "      <td>1965</td>\n",
       "      <td>30</td>\n",
       "      <td>22</td>\n",
       "    </tr>\n",
       "    <tr>\n",
       "      <th>2</th>\n",
       "      <td>Patty Duke</td>\n",
       "      <td>Don't Just Stand There</td>\n",
       "      <td>1965</td>\n",
       "      <td>31</td>\n",
       "      <td>14</td>\n",
       "    </tr>\n",
       "  </tbody>\n",
       "</table>\n",
       "</div>"
      ],
      "text/plain": [
       "    performer                    song  year  week  week_position\n",
       "0  Patty Duke  Don't Just Stand There  1965    29             34\n",
       "1  Patty Duke  Don't Just Stand There  1965    30             22\n",
       "2  Patty Duke  Don't Just Stand There  1965    31             14"
      ]
     },
     "execution_count": 407,
     "metadata": {},
     "output_type": "execute_result"
    }
   ],
   "source": [
    "imported_billboard = pd.read_csv('billboard.csv')\n",
    "billboard = imported_billboard[['performer', 'song', 'year', 'week', 'week_position']]\n",
    "billboard[:3]"
   ]
  },
  {
   "cell_type": "markdown",
   "id": "c4f8e2a9",
   "metadata": {},
   "source": [
    "Next I grouped the data by performer and song, and set the as_index to False because the question specifies that there should be three columns. Moreover, I used week as the count, and counted the number of weeks that each song appeared in the Billboard for. Instead of week count, I renamed the column to count. In order to check the table I have printed the first three rows:"
   ]
  },
  {
   "cell_type": "code",
   "execution_count": 408,
   "id": "06c0e252",
   "metadata": {},
   "outputs": [
    {
     "data": {
      "text/html": [
       "<div>\n",
       "<style scoped>\n",
       "    .dataframe tbody tr th:only-of-type {\n",
       "        vertical-align: middle;\n",
       "    }\n",
       "\n",
       "    .dataframe tbody tr th {\n",
       "        vertical-align: top;\n",
       "    }\n",
       "\n",
       "    .dataframe thead th {\n",
       "        text-align: right;\n",
       "    }\n",
       "</style>\n",
       "<table border=\"1\" class=\"dataframe\">\n",
       "  <thead>\n",
       "    <tr style=\"text-align: right;\">\n",
       "      <th></th>\n",
       "      <th>performer</th>\n",
       "      <th>song</th>\n",
       "      <th>count</th>\n",
       "    </tr>\n",
       "  </thead>\n",
       "  <tbody>\n",
       "    <tr>\n",
       "      <th>0</th>\n",
       "      <td>\"Groove\" Holmes</td>\n",
       "      <td>Misty</td>\n",
       "      <td>11</td>\n",
       "    </tr>\n",
       "    <tr>\n",
       "      <th>1</th>\n",
       "      <td>\"Groove\" Holmes</td>\n",
       "      <td>What Now My Love</td>\n",
       "      <td>3</td>\n",
       "    </tr>\n",
       "    <tr>\n",
       "      <th>2</th>\n",
       "      <td>\"Little\" Jimmy Dickens</td>\n",
       "      <td>May The Bird Of Paradise Fly Up Your Nose</td>\n",
       "      <td>10</td>\n",
       "    </tr>\n",
       "  </tbody>\n",
       "</table>\n",
       "</div>"
      ],
      "text/plain": [
       "                performer                                       song  count\n",
       "0         \"Groove\" Holmes                                      Misty     11\n",
       "1         \"Groove\" Holmes                           What Now My Love      3\n",
       "2  \"Little\" Jimmy Dickens  May The Bird Of Paradise Fly Up Your Nose     10"
      ]
     },
     "execution_count": 408,
     "metadata": {},
     "output_type": "execute_result"
    }
   ],
   "source": [
    "grouped = billboard.groupby(['performer', 'song'], as_index=False)['week'].count()\n",
    "grouped.rename(columns={'week': 'count'}, inplace=True)\n",
    "grouped[:3]"
   ]
  },
  {
   "cell_type": "markdown",
   "id": "61f6541c",
   "metadata": {},
   "source": [
    "Next, I have sorted the table in descending order with the highest counts first, this new table has just been renamed popularity for ease of code."
   ]
  },
  {
   "cell_type": "code",
   "execution_count": 409,
   "id": "8f3f149c",
   "metadata": {},
   "outputs": [
    {
     "data": {
      "text/html": [
       "<div>\n",
       "<style scoped>\n",
       "    .dataframe tbody tr th:only-of-type {\n",
       "        vertical-align: middle;\n",
       "    }\n",
       "\n",
       "    .dataframe tbody tr th {\n",
       "        vertical-align: top;\n",
       "    }\n",
       "\n",
       "    .dataframe thead th {\n",
       "        text-align: right;\n",
       "    }\n",
       "</style>\n",
       "<table border=\"1\" class=\"dataframe\">\n",
       "  <thead>\n",
       "    <tr style=\"text-align: right;\">\n",
       "      <th></th>\n",
       "      <th>performer</th>\n",
       "      <th>song</th>\n",
       "      <th>count</th>\n",
       "    </tr>\n",
       "  </thead>\n",
       "  <tbody>\n",
       "    <tr>\n",
       "      <th>11194</th>\n",
       "      <td>Imagine Dragons</td>\n",
       "      <td>Radioactive</td>\n",
       "      <td>87</td>\n",
       "    </tr>\n",
       "    <tr>\n",
       "      <th>403</th>\n",
       "      <td>AWOLNATION</td>\n",
       "      <td>Sail</td>\n",
       "      <td>79</td>\n",
       "    </tr>\n",
       "    <tr>\n",
       "      <th>27121</th>\n",
       "      <td>The Weeknd</td>\n",
       "      <td>Blinding Lights</td>\n",
       "      <td>76</td>\n",
       "    </tr>\n",
       "    <tr>\n",
       "      <th>12026</th>\n",
       "      <td>Jason Mraz</td>\n",
       "      <td>I'm Yours</td>\n",
       "      <td>76</td>\n",
       "    </tr>\n",
       "    <tr>\n",
       "      <th>15008</th>\n",
       "      <td>LeAnn Rimes</td>\n",
       "      <td>How Do I Live</td>\n",
       "      <td>69</td>\n",
       "    </tr>\n",
       "    <tr>\n",
       "      <th>18752</th>\n",
       "      <td>OneRepublic</td>\n",
       "      <td>Counting Stars</td>\n",
       "      <td>68</td>\n",
       "    </tr>\n",
       "    <tr>\n",
       "      <th>14807</th>\n",
       "      <td>LMFAO Featuring Lauren Bennett &amp; GoonRock</td>\n",
       "      <td>Party Rock Anthem</td>\n",
       "      <td>68</td>\n",
       "    </tr>\n",
       "    <tr>\n",
       "      <th>12421</th>\n",
       "      <td>Jewel</td>\n",
       "      <td>Foolish Games/You Were Meant For Me</td>\n",
       "      <td>65</td>\n",
       "    </tr>\n",
       "    <tr>\n",
       "      <th>506</th>\n",
       "      <td>Adele</td>\n",
       "      <td>Rolling In The Deep</td>\n",
       "      <td>65</td>\n",
       "    </tr>\n",
       "    <tr>\n",
       "      <th>4347</th>\n",
       "      <td>Carrie Underwood</td>\n",
       "      <td>Before He Cheats</td>\n",
       "      <td>64</td>\n",
       "    </tr>\n",
       "  </tbody>\n",
       "</table>\n",
       "</div>"
      ],
      "text/plain": [
       "                                       performer  \\\n",
       "11194                            Imagine Dragons   \n",
       "403                                   AWOLNATION   \n",
       "27121                                 The Weeknd   \n",
       "12026                                 Jason Mraz   \n",
       "15008                                LeAnn Rimes   \n",
       "18752                                OneRepublic   \n",
       "14807  LMFAO Featuring Lauren Bennett & GoonRock   \n",
       "12421                                      Jewel   \n",
       "506                                        Adele   \n",
       "4347                            Carrie Underwood   \n",
       "\n",
       "                                      song  count  \n",
       "11194                          Radioactive     87  \n",
       "403                                   Sail     79  \n",
       "27121                      Blinding Lights     76  \n",
       "12026                            I'm Yours     76  \n",
       "15008                        How Do I Live     69  \n",
       "18752                       Counting Stars     68  \n",
       "14807                    Party Rock Anthem     68  \n",
       "12421  Foolish Games/You Were Meant For Me     65  \n",
       "506                    Rolling In The Deep     65  \n",
       "4347                      Before He Cheats     64  "
      ]
     },
     "execution_count": 409,
     "metadata": {},
     "output_type": "execute_result"
    }
   ],
   "source": [
    "popularity = grouped.sort_values(by='count', ascending=False)\n",
    "popularity[:10]"
   ]
  },
  {
   "cell_type": "markdown",
   "id": "b223ced0",
   "metadata": {},
   "source": [
    "**Table Explanation:**\n",
    "The table shows the top ten most popular Billboard 100 songs from 1958-2021, as characterized by the highest count. The count is the number of weeks the song stayed in the Billboard 100. The Imagine Dragons had the most popular song, 'Radioactive', which stayed in the Billboard 100 for a total of 87 weeks. The tenth most popular song is Carrie Underwood's 'Before He Cheats' which stayed in the top 100 for 64 weeks. "
   ]
  },
  {
   "cell_type": "markdown",
   "id": "ff65f0ad",
   "metadata": {},
   "source": [
    "## Part (b):"
   ]
  },
  {
   "cell_type": "markdown",
   "id": "eef9f4b3",
   "metadata": {},
   "source": [
    "<font color=blue>\n",
    "  Is the \"musical diversity\" of the Billboard Top 100 changing over time? Measure the musical diversity of given year as the number of unique songs that appeared in the Billboard Top 100 that year. Make a line graph that plots this measure of musical diversity over the years. The x axis should show the year, while the y axis should show the number of unique songs appearing at any position on the Billboard Top 100 chart in any week that year. For this part, please filter the data set so that it excludes the years 1958 and 2021, since we do not have complete data on either of those years. Give the figure an informative caption in which you explain what is shown in the figure and comment on any interesting trends you see."
   ]
  },
  {
   "cell_type": "markdown",
   "id": "91fa3e57",
   "metadata": {},
   "source": [
    "To start we have taken out the years 1958 and 2021 since they are not complete. Instead of manipulating Billboard directly, we have created a new, filtered df."
   ]
  },
  {
   "cell_type": "code",
   "execution_count": 410,
   "id": "2ff982b0",
   "metadata": {},
   "outputs": [],
   "source": [
    "filtered_billboard = billboard[(billboard['year'] != 1958) & (billboard['year'] != 2021)]"
   ]
  },
  {
   "cell_type": "markdown",
   "id": "0669366c",
   "metadata": {},
   "source": [
    "We now need to find the number of songs in the Billboard 100 each year. To start, we have dropped any duplicates that had the same song name, performer, and year. For instance, Adele's Rolling in the Deep appears many times in the same year because it spent a long time in the top 100, so we are going to filter the data and keep just one mention per year of Rolling in the Deep. "
   ]
  },
  {
   "cell_type": "code",
   "execution_count": 411,
   "id": "218d0ef1",
   "metadata": {},
   "outputs": [
    {
     "data": {
      "text/plain": [
       "1966    832\n",
       "1967    827\n",
       "1964    811\n",
       "2020    804\n",
       "1965    800\n",
       "Name: year, dtype: int64"
      ]
     },
     "execution_count": 411,
     "metadata": {},
     "output_type": "execute_result"
    }
   ],
   "source": [
    "#Taking out the duplicates where performer, song, and year are all the same:\n",
    "billboard_no_duplicates = filtered_billboard.drop_duplicates(subset=['performer', 'song', 'year'])\n",
    "\n",
    "#Value count the number of unique songs that appeared each year:\n",
    "songs_per_year = billboard_no_duplicates['year'].value_counts()\n",
    "songs_per_year[:5]"
   ]
  },
  {
   "cell_type": "markdown",
   "id": "7ea56b3b",
   "metadata": {},
   "source": [
    "Now we have the data we can create a line plot:"
   ]
  },
  {
   "cell_type": "code",
   "execution_count": 412,
   "id": "5ae504a9",
   "metadata": {},
   "outputs": [
    {
     "data": {
      "image/png": "[encoded data removed]",
      "text/plain": [
       "<Figure size 640x480 with 1 Axes>"
      ]
     },
     "metadata": {},
     "output_type": "display_data"
    }
   ],
   "source": [
    "import matplotlib.pyplot as plt\n",
    "\n",
    "songs_per_year = songs_per_year.sort_index()\n",
    "\n",
    "plot(songs_per_year.index, songs_per_year.values, marker='None', linestyle='-')\n",
    "xlabel('Year')\n",
    "ylabel('Number of Unique Songs')\n",
    "title('Number of Unique Songs that Appeared in Billboard 100, per year')\n",
    "show()\n"
   ]
  },
  {
   "cell_type": "markdown",
   "id": "983f3b70",
   "metadata": {},
   "source": [
    "**Line plot summary:** The line plot shows the number of unique songs that appeared in the Billboard 100, every year. From the period 1960 to 2000 there is a rough, downward sloping trend where the number of unique songs that appeared in the Billboard 100 started to decrease each year. At the turn of the new century (2001 and beyond) the line starts to trend upwards again, though is very jagged. By the end of our data set, in 2020, the number of unique songs starts to peak again. In other words, specific songs occupied less time in the billboard 100 in 1960 and 2020 than they did during 1990-2000."
   ]
  },
  {
   "cell_type": "markdown",
   "id": "33b5f2f5",
   "metadata": {},
   "source": [
    "## Part (c):"
   ]
  },
  {
   "cell_type": "markdown",
   "id": "6fd0f7c9",
   "metadata": {},
   "source": [
    "<font color=blue>\n",
    "Define a \"ten-week hit\" as a single song that appeared on the Billboard Top 100 for at least ten weeks. There are 19 artists in U.S. musical history since 1958 who have had at least 30 songs that were \"ten-week hits.\" Make a bar plot for these 19 artists, showing how many ten-week hits each one had in their musical career. Give the plot an informative caption in which you explain what is shown."
   ]
  },
  {
   "cell_type": "markdown",
   "id": "8b3dd370",
   "metadata": {},
   "source": [
    "We are going to start by creating a mask that have songs with a count of ten or more:"
   ]
  },
  {
   "cell_type": "code",
   "execution_count": 419,
   "id": "909c445f",
   "metadata": {},
   "outputs": [
    {
     "name": "stdout",
     "output_type": "stream",
     "text": [
      "Number of ten-week hits: 14807\n"
     ]
    }
   ],
   "source": [
    "ten_week_hit = grouped[grouped['count'] >= 10]\n",
    "print(\"Number of ten-week hits:\", len(ten_week_hit))"
   ]
  },
  {
   "cell_type": "code",
   "execution_count": 420,
   "id": "fc69d43e",
   "metadata": {},
   "outputs": [
    {
     "data": {
      "text/html": [
       "<div>\n",
       "<style scoped>\n",
       "    .dataframe tbody tr th:only-of-type {\n",
       "        vertical-align: middle;\n",
       "    }\n",
       "\n",
       "    .dataframe tbody tr th {\n",
       "        vertical-align: top;\n",
       "    }\n",
       "\n",
       "    .dataframe thead th {\n",
       "        text-align: right;\n",
       "    }\n",
       "</style>\n",
       "<table border=\"1\" class=\"dataframe\">\n",
       "  <thead>\n",
       "    <tr style=\"text-align: right;\">\n",
       "      <th></th>\n",
       "      <th>performer</th>\n",
       "      <th>song</th>\n",
       "      <th>count</th>\n",
       "    </tr>\n",
       "  </thead>\n",
       "  <tbody>\n",
       "    <tr>\n",
       "      <th>0</th>\n",
       "      <td>\"Groove\" Holmes</td>\n",
       "      <td>Misty</td>\n",
       "      <td>11</td>\n",
       "    </tr>\n",
       "    <tr>\n",
       "      <th>2</th>\n",
       "      <td>\"Little\" Jimmy Dickens</td>\n",
       "      <td>May The Bird Of Paradise Fly Up Your Nose</td>\n",
       "      <td>10</td>\n",
       "    </tr>\n",
       "    <tr>\n",
       "      <th>4</th>\n",
       "      <td>\"Weird Al\" Yankovic</td>\n",
       "      <td>Amish Paradise</td>\n",
       "      <td>16</td>\n",
       "    </tr>\n",
       "  </tbody>\n",
       "</table>\n",
       "</div>"
      ],
      "text/plain": [
       "                performer                                       song  count\n",
       "0         \"Groove\" Holmes                                      Misty     11\n",
       "2  \"Little\" Jimmy Dickens  May The Bird Of Paradise Fly Up Your Nose     10\n",
       "4     \"Weird Al\" Yankovic                             Amish Paradise     16"
      ]
     },
     "execution_count": 420,
     "metadata": {},
     "output_type": "execute_result"
    }
   ],
   "source": [
    "ten_week_hit[:3]"
   ]
  },
  {
   "cell_type": "markdown",
   "id": "d632bfce",
   "metadata": {},
   "source": [
    "Without adding another mask of performers with at least 30 ten week hits we have 14807 performers with a ten week hit. \n",
    "\n",
    "The next step is going to be value counting the performers. Since the data contains each specific song and performer as a row, with the counts above 10, I can ignore my counts and just add up the number of times the performers are listed:"
   ]
  },
  {
   "cell_type": "code",
   "execution_count": 414,
   "id": "9ce12fb5",
   "metadata": {},
   "outputs": [
    {
     "data": {
      "text/plain": [
       "Elton John                           52\n",
       "Madonna                              44\n",
       "Kenny Chesney                        42\n",
       "Tim McGraw                           39\n",
       "Keith Urban                          36\n",
       "                                     ..\n",
       "Jerry Vale                            1\n",
       "Jerry Keller                          1\n",
       "Jerry Butler & Brenda Lee Eager       1\n",
       "Jermaine Jackson & Pia Zadora         1\n",
       "will.i.am Featuring Justin Bieber     1\n",
       "Name: performer, Length: 6126, dtype: int64"
      ]
     },
     "execution_count": 414,
     "metadata": {},
     "output_type": "execute_result"
    }
   ],
   "source": [
    "ten_week_artists = ten_week_hit['performer'].value_counts()\n",
    "ten_week_artists"
   ]
  },
  {
   "cell_type": "markdown",
   "id": "7a7d4741",
   "metadata": {},
   "source": [
    "Without filtering this value_counts() list, we see that the list now shrinks to 6126, meaning that multiple artists had ten hit wonders. I am now going to select only the artists with more than 30 of these ten week hits:"
   ]
  },
  {
   "cell_type": "code",
   "execution_count": 421,
   "id": "faba1b93",
   "metadata": {},
   "outputs": [
    {
     "data": {
      "text/plain": [
       "Elton John               52\n",
       "Madonna                  44\n",
       "Kenny Chesney            42\n",
       "Tim McGraw               39\n",
       "Keith Urban              36\n",
       "Stevie Wonder            36\n",
       "Taylor Swift             35\n",
       "Michael Jackson          34\n",
       "The Rolling Stones       33\n",
       "Rod Stewart              33\n",
       "Billy Joel               32\n",
       "Chicago                  31\n",
       "Rascal Flatts            31\n",
       "Drake                    31\n",
       "Jason Aldean             30\n",
       "George Strait            30\n",
       "Brad Paisley             30\n",
       "Neil Diamond             30\n",
       "Daryl Hall John Oates    30\n",
       "Name: performer, dtype: int64"
      ]
     },
     "execution_count": 421,
     "metadata": {},
     "output_type": "execute_result"
    }
   ],
   "source": [
    "top_ten_week_artists = ten_week_artists[ten_week_artists >= 30]\n",
    "top_ten_week_artists"
   ]
  },
  {
   "cell_type": "markdown",
   "id": "73f641c2",
   "metadata": {},
   "source": [
    "To check that I have the right number of artists (I should have 19), I am going to print the length of the new dataframe:"
   ]
  },
  {
   "cell_type": "code",
   "execution_count": 422,
   "id": "8e10b8b2",
   "metadata": {},
   "outputs": [
    {
     "name": "stdout",
     "output_type": "stream",
     "text": [
      "Artists who had 30 or more 10 week hits: 19\n"
     ]
    }
   ],
   "source": [
    "print(\"Artists who had 30 or more 10 week hits:\", len(ten_week_artists_filtered))"
   ]
  },
  {
   "cell_type": "code",
   "execution_count": 426,
   "id": "4051fbba",
   "metadata": {},
   "outputs": [
    {
     "data": {
      "text/plain": [
       "Text(0, 0.5, 'Number of 10-week hit songs')"
      ]
     },
     "execution_count": 426,
     "metadata": {},
     "output_type": "execute_result"
    },
    {
     "data": {
      "image/png": "[encoded data removed]",
      "text/plain": [
       "<Figure size 640x480 with 1 Axes>"
      ]
     },
     "metadata": {},
     "output_type": "display_data"
    }
   ],
   "source": [
    "top_ten_week_artists.plot(kind = 'bar')\n",
    "title(\"Performers ranked by the number songs that stayed in the Billboard 100 for 10 or more weeks\")\n",
    "xlabel(\"Performers\")\n",
    "ylabel(\"Number of 10-week hit songs\")"
   ]
  },
  {
   "cell_type": "markdown",
   "id": "6b838be9",
   "metadata": {},
   "source": [
    "**Bar plot summary:** This bar chart shows the 19 performers who have 30 or more songs which have all been in the Billboard 100 for at least ten weeks (during 1958-2021*). The names are ranked in descending order, with Elton John having the most songs that hit this criteria. The last five artists have exactly 30 songs that are ten-week hits.\n",
    "\n",
    "**NB: 1958 and 2021 are not measured as whole years*"
   ]
  },
  {
   "cell_type": "markdown",
   "id": "a0ea40cf",
   "metadata": {},
   "source": [
    "*As a way of checking my work for this question I have used the entire dataset, and focused on weeks_on_chart. weeks_on_chart is not a variable that is of interest in the question specifically, but can be used to find the same answers:*"
   ]
  },
  {
   "cell_type": "code",
   "execution_count": 429,
   "id": "95e5119a",
   "metadata": {},
   "outputs": [
    {
     "name": "stdout",
     "output_type": "stream",
     "text": [
      "Checking the number of 30 10-week hit artists: 19\n"
     ]
    }
   ],
   "source": [
    "#To save space and avoid confusion the code for checking the question is all in the same block.\n",
    "\n",
    "#QUESTION 1:\n",
    "#Creating a table with performer, song, and weeks on chart:\n",
    "#Taking only the max value of weeks on chart and dropping the rest\n",
    "checker_billboard = imported_billboard.groupby(['performer', 'song'], as_index=False)['weeks_on_chart'].max()\n",
    "checker_billboard[:2]\n",
    "\n",
    "checker_popularity = checker_billboard.sort_values(by='weeks_on_chart', ascending=False)\n",
    "checker_popularity[:10]\n",
    "\n",
    "\n",
    "#QUESTION 3:\n",
    "#Creating a mask for hits that were on billboard for ten or more weeks\n",
    "checker_ten_week_hit = checker_billboard[checker_billboard['weeks_on_chart'] >= 10]\n",
    "checker_ten_week_hit[:3]\n",
    "\n",
    "#Value Counting for performers to get how many hits they have \n",
    "filtered_again = ten_week_hit1['performer'].value_counts()\n",
    "ten_week_artists_filtered = filtered_again[filtered_again >= 30]\n",
    "#Finding the length to confirm we have 19 artists\n",
    "print(\"Checking the number of 30 10-week hit artists:\",len(ten_week_artists_filtered))"
   ]
  }
 ],
 "metadata": {
  "kernelspec": {
   "display_name": "Python 3 (ipykernel)",
   "language": "python",
   "name": "python3"
  },
  "language_info": {
   "codemirror_mode": {
    "name": "ipython",
    "version": 3
   },
   "file_extension": ".py",
   "mimetype": "text/x-python",
   "name": "python",
   "nbconvert_exporter": "python",
   "pygments_lexer": "ipython3",
   "version": "3.10.9"
  }
 },
 "nbformat": 4,
 "nbformat_minor": 5
}
