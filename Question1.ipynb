{
 "cells": [
  {
   "cell_type": "markdown",
   "id": "e3b6b0a6",
   "metadata": {},
   "source": [
    "**Code for understanding this file:**\n",
    "- <font color=blue>Questions are put in blue <font color=black> \n",
    "- Answers are put in black"
   ]
  },
  {
   "cell_type": "markdown",
   "id": "3069157d",
   "metadata": {},
   "source": [
    "# Probability practice"
   ]
  },
  {
   "cell_type": "markdown",
   "id": "5dfaee2f",
   "metadata": {},
   "source": [
    "## Part (a):"
   ]
  },
  {
   "cell_type": "markdown",
   "id": "f14daa91",
   "metadata": {},
   "source": [
    "<font color=blue>\n",
    "Visitors to your website are asked to answer a single survey question before they get access to the content on the page. Among all of the users, there are two categories: Random Clicker (RC), and Truthful Clicker (TC). There are two possible answers to the survey: yes and no. Random clickers would click either one with equal probability. You are also giving the information that the expected fraction of random clickers is 0.3. After a trial period, you get the following survey results: 65% said Yes and 35% said No. What fraction of people who are truthful clickers answered yes? Hint: use the rule of total probability."
   ]
  },
  {
   "cell_type": "markdown",
   "id": "e47d2336",
   "metadata": {},
   "source": [
    "- P(YES|RC) = 0.50\n",
    "- P(NO|RC) = 0.50\n",
    "- P(RC) = 0.30\n",
    "- P(YES) = 0.65\n",
    "- P(NO) = 0.35\n",
    "\n",
    "Trying to find: P(Y|TC) (*the probability of people who answered yes **given** they are truthful clickers.\n"
   ]
  },
  {
   "cell_type": "markdown",
   "id": "617b347c",
   "metadata": {},
   "source": [
    "$Total Probability Rule: P(TC = Y, RC = Y), + P(TC = Y, RC = N) + P(TC = N, RC = Y)+ P(TC = N, RC = N) $"
   ]
  },
  {
   "cell_type": "markdown",
   "id": "6c092cd9",
   "metadata": {},
   "source": [
    "$P(YES) = P(YES | RC) * P(RC) + P(YES | TC) * P(TC) $"
   ]
  },
  {
   "cell_type": "markdown",
   "id": "e87f2256",
   "metadata": {},
   "source": [
    "$0.65 = (0.5 * 0.3) + P(YES|TC) * 0.70$"
   ]
  },
  {
   "cell_type": "markdown",
   "id": "7ece94d7",
   "metadata": {},
   "source": [
    "$P(YES|TC) = (0.65 - (0.5*0.3))/0.70$"
   ]
  },
  {
   "cell_type": "code",
   "execution_count": 1,
   "id": "7caec158",
   "metadata": {},
   "outputs": [
    {
     "name": "stdout",
     "output_type": "stream",
     "text": [
      "P(YES|TC): 0.7142857142857143\n"
     ]
    }
   ],
   "source": [
    "prob_yes_tc = (0.65 - (0.5*0.3))/0.70\n",
    "print(\"P(YES|TC):\", prob_yes_tc)"
   ]
  },
  {
   "cell_type": "markdown",
   "id": "0ec21a14",
   "metadata": {},
   "source": [
    "The fraction of people who are truthful clickers answered yes is 0.7143, or 71.43%."
   ]
  },
  {
   "cell_type": "markdown",
   "id": "fc12b5d1",
   "metadata": {},
   "source": [
    "## Part (b):"
   ]
  },
  {
   "cell_type": "markdown",
   "id": "a38f1cd0",
   "metadata": {},
   "source": [
    "<font color=blue>\n",
    "\n",
    "Imagine a medical test for a disease with the following two attributes:\n",
    "\n",
    "- The sensitivity is about 0.993. That is, if someone has the disease, there is a probability of 0.993 that they will test positive.\n",
    "- The specificity is about 0.9999. This means that if someone doesn't have the disease, there is probability of 0.9999 that they will test negative.\n",
    "- In the general population, incidence of the disease is reasonably rare: about 0.0025% of all people have it (or 0.000025 as a decimal probability).\n",
    "\n",
    "Suppose someone tests positive. What is the probability that they have the disease?"
   ]
  },
  {
   "cell_type": "markdown",
   "id": "36be80a1",
   "metadata": {},
   "source": [
    "- Senstitivty = P(POS|DISEASED) = 0.993\n",
    "- From here, can calculate the probability of being neg, given diseased: P(NEG|DISEASED) = 0.007\n",
    "- Specificity = P(NEG|NOT DISEASED) = 0.9999\n",
    "- From here, can calculate the probability of being positive, given not diseased: P(POS|NOT DISEASED) = 0.0001 <br><br>\n",
    "    \n",
    "    \n",
    "- P(DISEASED) = 0.000025\n",
    "- P(NOT DISEASED) = 0.999975"
   ]
  },
  {
   "cell_type": "markdown",
   "id": "707b8c04",
   "metadata": {},
   "source": [
    "Trying to find: P(DISEASED|POS)"
   ]
  },
  {
   "cell_type": "markdown",
   "id": "026d8036",
   "metadata": {},
   "source": [
    "I can use **Bayes Theorem** to find this answer. First, I need to find the probability of being diseased:"
   ]
  },
  {
   "cell_type": "markdown",
   "id": "1bfb8feb",
   "metadata": {},
   "source": [
    "$P(POS) = P(POS|DISEASED) * P(DISEASED) + P(POS|NOT DISEASED) * P(NOT DISEASED)$\n"
   ]
  },
  {
   "cell_type": "markdown",
   "id": "9257555f",
   "metadata": {},
   "source": [
    "$P(POS) = (0.993 * 0.000025) + (0.0001 * 0.999975)$"
   ]
  },
  {
   "cell_type": "code",
   "execution_count": 2,
   "id": "23e16840",
   "metadata": {},
   "outputs": [
    {
     "name": "stdout",
     "output_type": "stream",
     "text": [
      "P(POS): 0.0001248225\n"
     ]
    }
   ],
   "source": [
    "prob_positive = (0.993 * 0.000025) + (0.0001 * 0.999975)\n",
    "print(\"P(POS):\", prob_positive)"
   ]
  },
  {
   "cell_type": "markdown",
   "id": "f6015bb3",
   "metadata": {},
   "source": [
    "$P(DISEASED|POS) = P(POS|DISEASED) * P(DISEASED) / P(POSITIVE)$"
   ]
  },
  {
   "cell_type": "markdown",
   "id": "f679c0ce",
   "metadata": {},
   "source": [
    "$P(DISEASED|POS) = 0.993 * 0.000025 / 0.0001248225 $"
   ]
  },
  {
   "cell_type": "code",
   "execution_count": 3,
   "id": "0e40264a",
   "metadata": {},
   "outputs": [
    {
     "name": "stdout",
     "output_type": "stream",
     "text": [
      "P(DISEASED|POS): 0.19888241302649762\n"
     ]
    }
   ],
   "source": [
    "prob_diseased_pos = 0.993 * 0.000025 / 0.0001248225\n",
    "print(\"P(DISEASED|POS):\", prob_diseased_pos)"
   ]
  },
  {
   "cell_type": "markdown",
   "id": "f76facbe",
   "metadata": {},
   "source": [
    "The probability that a person has the disease, given that they have tested positive is 0.19888 as a fraction."
   ]
  }
 ],
 "metadata": {
  "kernelspec": {
   "display_name": "Python 3 (ipykernel)",
   "language": "python",
   "name": "python3"
  },
  "language_info": {
   "codemirror_mode": {
    "name": "ipython",
    "version": 3
   },
   "file_extension": ".py",
   "mimetype": "text/x-python",
   "name": "python",
   "nbconvert_exporter": "python",
   "pygments_lexer": "ipython3",
   "version": "3.10.9"
  }
 },
 "nbformat": 4,
 "nbformat_minor": 5
}
