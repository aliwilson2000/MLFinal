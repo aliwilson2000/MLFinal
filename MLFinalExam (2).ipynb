{
 "cells": [
  {
   "cell_type": "markdown",
   "id": "9567c453",
   "metadata": {},
   "source": []
  },
  {
   "cell_type": "markdown",
   "id": "e3b6b0a6",
   "metadata": {},
   "source": [
    "**Code for understanding this file:**\n",
    "- <font color=blue>Questions are put in blue <font color=black> \n",
    "- Answers are put in black"
   ]
  },
  {
   "cell_type": "markdown",
   "id": "68e27800",
   "metadata": {},
   "source": [
    "Before starting these exercises we have imported some libraries:"
   ]
  },
  {
   "cell_type": "code",
   "execution_count": 340,
   "id": "9270a423",
   "metadata": {},
   "outputs": [
    {
     "name": "stdout",
     "output_type": "stream",
     "text": [
      "%pylab is deprecated, use %matplotlib inline and import the required libraries.\n",
      "Populating the interactive namespace from numpy and matplotlib\n"
     ]
    }
   ],
   "source": [
    "from pandas import Series, DataFrame\n",
    "import pandas as pd\n",
    "%pylab inline\n",
    "\n",
    "import matplotlib.pyplot as plt\n",
    "\n",
    "\n",
    "import warnings\n",
    "warnings.filterwarnings('ignore')"
   ]
  },
  {
   "cell_type": "markdown",
   "id": "3069157d",
   "metadata": {},
   "source": [
    "# Probability practice"
   ]
  },
  {
   "cell_type": "markdown",
   "id": "5dfaee2f",
   "metadata": {},
   "source": [
    "## Part (a):"
   ]
  },
  {
   "cell_type": "markdown",
   "id": "f14daa91",
   "metadata": {},
   "source": [
    "<font color=blue>\n",
    "Visitors to your website are asked to answer a single survey question before they get access to the content on the page. Among all of the users, there are two categories: Random Clicker (RC), and Truthful Clicker (TC). There are two possible answers to the survey: yes and no. Random clickers would click either one with equal probability. You are also giving the information that the expected fraction of random clickers is 0.3. After a trial period, you get the following survey results: 65% said Yes and 35% said No. What fraction of people who are truthful clickers answered yes? Hint: use the rule of total probability."
   ]
  },
  {
   "cell_type": "markdown",
   "id": "e47d2336",
   "metadata": {},
   "source": [
    "- P(YES|RC) = 0.50\n",
    "- P(NO|RC) = 0.50\n",
    "- P(RC) = 0.30\n",
    "- P(YES) = 0.65\n",
    "- P(NO) = 0.35\n",
    "\n",
    "Trying to find: P(Y|TC) (*the probability of people who answered yes **given** they are truthful clickers.\n"
   ]
  },
  {
   "cell_type": "markdown",
   "id": "617b347c",
   "metadata": {},
   "source": [
    "$Total Probability Rule: P(TC = Y, RC = Y), + P(TC = Y, RC = N) + P(TC = N, RC = Y)+ P(TC = N, RC = N) $"
   ]
  },
  {
   "cell_type": "markdown",
   "id": "6c092cd9",
   "metadata": {},
   "source": [
    "$P(YES) = P(YES | RC) * P(RC) + P(YES | TC) * P(TC) $"
   ]
  },
  {
   "cell_type": "markdown",
   "id": "e87f2256",
   "metadata": {},
   "source": [
    "$0.65 = (0.5 * 0.3) + P(YES|TC) * 0.70$"
   ]
  },
  {
   "cell_type": "markdown",
   "id": "7ece94d7",
   "metadata": {},
   "source": [
    "$P(YES|TC) = (0.65 - (0.5*0.3))/0.70$"
   ]
  },
  {
   "cell_type": "code",
   "execution_count": 300,
   "id": "7caec158",
   "metadata": {},
   "outputs": [
    {
     "name": "stdout",
     "output_type": "stream",
     "text": [
      "P(YES|TC): 0.7142857142857143\n"
     ]
    }
   ],
   "source": [
    "prob_yes_tc = (0.65 - (0.5*0.3))/0.70\n",
    "print(\"P(YES|TC):\", prob_yes_tc)"
   ]
  },
  {
   "cell_type": "markdown",
   "id": "0ec21a14",
   "metadata": {},
   "source": [
    "The fraction of people who are truthful clickers answered yes is 0.7143, or 71.43%."
   ]
  },
  {
   "cell_type": "markdown",
   "id": "fc12b5d1",
   "metadata": {},
   "source": [
    "## Part (b):"
   ]
  },
  {
   "cell_type": "markdown",
   "id": "a38f1cd0",
   "metadata": {},
   "source": [
    "<font color=blue>\n",
    "\n",
    "Imagine a medical test for a disease with the following two attributes:\n",
    "\n",
    "- The sensitivity is about 0.993. That is, if someone has the disease, there is a probability of 0.993 that they will test positive.\n",
    "- The specificity is about 0.9999. This means that if someone doesn't have the disease, there is probability of 0.9999 that they will test negative.\n",
    "- In the general population, incidence of the disease is reasonably rare: about 0.0025% of all people have it (or 0.000025 as a decimal probability).\n",
    "\n",
    "Suppose someone tests positive. What is the probability that they have the disease?"
   ]
  },
  {
   "cell_type": "markdown",
   "id": "36be80a1",
   "metadata": {},
   "source": [
    "- Senstitivty = P(POS|DISEASED) = 0.993\n",
    "- From here, can calculate the probability of being neg, given diseased: P(NEG|DISEASED) = 0.007\n",
    "- Specificity = P(NEG|NOT DISEASED) = 0.9999\n",
    "- From here, can calculate the probability of being positive, given not diseased: P(POS|NOT DISEASED) = 0.0001 <br><br>\n",
    "    \n",
    "    \n",
    "- P(DISEASED) = 0.000025\n",
    "- P(NOT DISEASED) = 0.999975"
   ]
  },
  {
   "cell_type": "markdown",
   "id": "707b8c04",
   "metadata": {},
   "source": [
    "Trying to find: P(DISEASED|POS)"
   ]
  },
  {
   "cell_type": "markdown",
   "id": "026d8036",
   "metadata": {},
   "source": [
    "I can use **Bayes Theorem** to find this answer. First, I need to find the probability of being diseased:"
   ]
  },
  {
   "cell_type": "markdown",
   "id": "1bfb8feb",
   "metadata": {},
   "source": [
    "$P(POS) = P(POS|DISEASED) * P(DISEASED) + P(POS|NOT DISEASED) * P(NOT DISEASED)$\n"
   ]
  },
  {
   "cell_type": "markdown",
   "id": "9257555f",
   "metadata": {},
   "source": [
    "$P(POS) = (0.993 * 0.000025) + (0.0001 * 0.999975)$"
   ]
  },
  {
   "cell_type": "code",
   "execution_count": 301,
   "id": "23e16840",
   "metadata": {},
   "outputs": [
    {
     "name": "stdout",
     "output_type": "stream",
     "text": [
      "P(POS): 0.0001248225\n"
     ]
    }
   ],
   "source": [
    "prob_positive = (0.993 * 0.000025) + (0.0001 * 0.999975)\n",
    "print(\"P(POS):\", prob_positive)"
   ]
  },
  {
   "cell_type": "markdown",
   "id": "f6015bb3",
   "metadata": {},
   "source": [
    "$P(DISEASED|POS) = P(POS|DISEASED) * P(DISEASED) / P(POSITIVE)$"
   ]
  },
  {
   "cell_type": "markdown",
   "id": "f679c0ce",
   "metadata": {},
   "source": [
    "$P(DISEASED|POS) = 0.993 * 0.000025 / 0.0001248225 $"
   ]
  },
  {
   "cell_type": "code",
   "execution_count": 302,
   "id": "0e40264a",
   "metadata": {},
   "outputs": [
    {
     "name": "stdout",
     "output_type": "stream",
     "text": [
      "P(DISEASED|POS): 0.19888241302649762\n"
     ]
    }
   ],
   "source": [
    "prob_diseased_pos = 0.993 * 0.000025 / 0.0001248225\n",
    "print(\"P(DISEASED|POS):\", prob_diseased_pos)"
   ]
  },
  {
   "cell_type": "markdown",
   "id": "f76facbe",
   "metadata": {},
   "source": [
    "The probability that a person has the disease, given that they have tested positive is 0.19888 as a fraction."
   ]
  },
  {
   "cell_type": "markdown",
   "id": "7f30c8bc",
   "metadata": {},
   "source": [
    "# Wrangling the Billboard Top 100"
   ]
  },
  {
   "cell_type": "markdown",
   "id": "82ac89c4",
   "metadata": {},
   "source": [
    "## Part (a):"
   ]
  },
  {
   "cell_type": "markdown",
   "id": "58d28be1",
   "metadata": {},
   "source": [
    "<font color=blue>\n",
    "Consider the data in billboard.csv containing every song to appear on the weekly Billboard Top 100 chart since 1958, up through the middle of 2021. Each row of this data corresponds to a single song in a single week. For our purposes, the relevant columns here are:\n",
    "\n",
    "- performer: who performed the song\n",
    "- song: the title of the song\n",
    "- year: year (1958 to 2021)\n",
    "- week: chart week of that year (1, 2, etc)\n",
    "- week_position: what position that song occupied that week on the Billboard top 100 chart."
   ]
  },
  {
   "cell_type": "markdown",
   "id": "9df8a5fb",
   "metadata": {},
   "source": [
    "<font color=blue>\n",
    "    Make a table of the top 10 most popular songs since 1958, as measured by the total number of weeks that a song spent on the Billboard Top 100. Note that these data end in week 22 of 2021, so the most popular songs of 2021 will not have up-to-the-minute data.\n",
    "<br>\n",
    "    \n",
    "Your table should have 10 rows and 3 columns: performer, song, and count, where count represents the number of weeks that song appeared in the Billboard Top 100. Make sure the entries are sorted in descending order of the count variable, so that the more popular songs appear at the top of the table. Give your table a short caption describing what is shown in the table."
   ]
  },
  {
   "cell_type": "markdown",
   "id": "c6a28a03",
   "metadata": {},
   "source": [
    "To start I have just created a new dataframe from the imported version. This dataframe contains only the relevant columns mentioned in the brief."
   ]
  },
  {
   "cell_type": "code",
   "execution_count": 407,
   "id": "ff48e510",
   "metadata": {},
   "outputs": [
    {
     "data": {
      "text/html": [
       "<div>\n",
       "<style scoped>\n",
       "    .dataframe tbody tr th:only-of-type {\n",
       "        vertical-align: middle;\n",
       "    }\n",
       "\n",
       "    .dataframe tbody tr th {\n",
       "        vertical-align: top;\n",
       "    }\n",
       "\n",
       "    .dataframe thead th {\n",
       "        text-align: right;\n",
       "    }\n",
       "</style>\n",
       "<table border=\"1\" class=\"dataframe\">\n",
       "  <thead>\n",
       "    <tr style=\"text-align: right;\">\n",
       "      <th></th>\n",
       "      <th>performer</th>\n",
       "      <th>song</th>\n",
       "      <th>year</th>\n",
       "      <th>week</th>\n",
       "      <th>week_position</th>\n",
       "    </tr>\n",
       "  </thead>\n",
       "  <tbody>\n",
       "    <tr>\n",
       "      <th>0</th>\n",
       "      <td>Patty Duke</td>\n",
       "      <td>Don't Just Stand There</td>\n",
       "      <td>1965</td>\n",
       "      <td>29</td>\n",
       "      <td>34</td>\n",
       "    </tr>\n",
       "    <tr>\n",
       "      <th>1</th>\n",
       "      <td>Patty Duke</td>\n",
       "      <td>Don't Just Stand There</td>\n",
       "      <td>1965</td>\n",
       "      <td>30</td>\n",
       "      <td>22</td>\n",
       "    </tr>\n",
       "    <tr>\n",
       "      <th>2</th>\n",
       "      <td>Patty Duke</td>\n",
       "      <td>Don't Just Stand There</td>\n",
       "      <td>1965</td>\n",
       "      <td>31</td>\n",
       "      <td>14</td>\n",
       "    </tr>\n",
       "  </tbody>\n",
       "</table>\n",
       "</div>"
      ],
      "text/plain": [
       "    performer                    song  year  week  week_position\n",
       "0  Patty Duke  Don't Just Stand There  1965    29             34\n",
       "1  Patty Duke  Don't Just Stand There  1965    30             22\n",
       "2  Patty Duke  Don't Just Stand There  1965    31             14"
      ]
     },
     "execution_count": 407,
     "metadata": {},
     "output_type": "execute_result"
    }
   ],
   "source": [
    "imported_billboard = pd.read_csv('billboard.csv')\n",
    "billboard = imported_billboard[['performer', 'song', 'year', 'week', 'week_position']]\n",
    "billboard[:3]"
   ]
  },
  {
   "cell_type": "markdown",
   "id": "c4f8e2a9",
   "metadata": {},
   "source": [
    "Next I grouped the data by performer and song, and set the as_index to False because the question specifies that there should be three columns. Moreover, I used week as the count, and counted the number of weeks that each song appeared in the Billboard for. Instead of week count, I renamed the column to count. In order to check the table I have printed the first three rows:"
   ]
  },
  {
   "cell_type": "code",
   "execution_count": 408,
   "id": "06c0e252",
   "metadata": {},
   "outputs": [
    {
     "data": {
      "text/html": [
       "<div>\n",
       "<style scoped>\n",
       "    .dataframe tbody tr th:only-of-type {\n",
       "        vertical-align: middle;\n",
       "    }\n",
       "\n",
       "    .dataframe tbody tr th {\n",
       "        vertical-align: top;\n",
       "    }\n",
       "\n",
       "    .dataframe thead th {\n",
       "        text-align: right;\n",
       "    }\n",
       "</style>\n",
       "<table border=\"1\" class=\"dataframe\">\n",
       "  <thead>\n",
       "    <tr style=\"text-align: right;\">\n",
       "      <th></th>\n",
       "      <th>performer</th>\n",
       "      <th>song</th>\n",
       "      <th>count</th>\n",
       "    </tr>\n",
       "  </thead>\n",
       "  <tbody>\n",
       "    <tr>\n",
       "      <th>0</th>\n",
       "      <td>\"Groove\" Holmes</td>\n",
       "      <td>Misty</td>\n",
       "      <td>11</td>\n",
       "    </tr>\n",
       "    <tr>\n",
       "      <th>1</th>\n",
       "      <td>\"Groove\" Holmes</td>\n",
       "      <td>What Now My Love</td>\n",
       "      <td>3</td>\n",
       "    </tr>\n",
       "    <tr>\n",
       "      <th>2</th>\n",
       "      <td>\"Little\" Jimmy Dickens</td>\n",
       "      <td>May The Bird Of Paradise Fly Up Your Nose</td>\n",
       "      <td>10</td>\n",
       "    </tr>\n",
       "  </tbody>\n",
       "</table>\n",
       "</div>"
      ],
      "text/plain": [
       "                performer                                       song  count\n",
       "0         \"Groove\" Holmes                                      Misty     11\n",
       "1         \"Groove\" Holmes                           What Now My Love      3\n",
       "2  \"Little\" Jimmy Dickens  May The Bird Of Paradise Fly Up Your Nose     10"
      ]
     },
     "execution_count": 408,
     "metadata": {},
     "output_type": "execute_result"
    }
   ],
   "source": [
    "grouped = billboard.groupby(['performer', 'song'], as_index=False)['week'].count()\n",
    "grouped.rename(columns={'week': 'count'}, inplace=True)\n",
    "grouped[:3]"
   ]
  },
  {
   "cell_type": "markdown",
   "id": "61f6541c",
   "metadata": {},
   "source": [
    "Next, I have sorted the table in descending order with the highest counts first, this new table has just been renamed popularity for ease of code."
   ]
  },
  {
   "cell_type": "code",
   "execution_count": 409,
   "id": "8f3f149c",
   "metadata": {},
   "outputs": [
    {
     "data": {
      "text/html": [
       "<div>\n",
       "<style scoped>\n",
       "    .dataframe tbody tr th:only-of-type {\n",
       "        vertical-align: middle;\n",
       "    }\n",
       "\n",
       "    .dataframe tbody tr th {\n",
       "        vertical-align: top;\n",
       "    }\n",
       "\n",
       "    .dataframe thead th {\n",
       "        text-align: right;\n",
       "    }\n",
       "</style>\n",
       "<table border=\"1\" class=\"dataframe\">\n",
       "  <thead>\n",
       "    <tr style=\"text-align: right;\">\n",
       "      <th></th>\n",
       "      <th>performer</th>\n",
       "      <th>song</th>\n",
       "      <th>count</th>\n",
       "    </tr>\n",
       "  </thead>\n",
       "  <tbody>\n",
       "    <tr>\n",
       "      <th>11194</th>\n",
       "      <td>Imagine Dragons</td>\n",
       "      <td>Radioactive</td>\n",
       "      <td>87</td>\n",
       "    </tr>\n",
       "    <tr>\n",
       "      <th>403</th>\n",
       "      <td>AWOLNATION</td>\n",
       "      <td>Sail</td>\n",
       "      <td>79</td>\n",
       "    </tr>\n",
       "    <tr>\n",
       "      <th>27121</th>\n",
       "      <td>The Weeknd</td>\n",
       "      <td>Blinding Lights</td>\n",
       "      <td>76</td>\n",
       "    </tr>\n",
       "    <tr>\n",
       "      <th>12026</th>\n",
       "      <td>Jason Mraz</td>\n",
       "      <td>I'm Yours</td>\n",
       "      <td>76</td>\n",
       "    </tr>\n",
       "    <tr>\n",
       "      <th>15008</th>\n",
       "      <td>LeAnn Rimes</td>\n",
       "      <td>How Do I Live</td>\n",
       "      <td>69</td>\n",
       "    </tr>\n",
       "    <tr>\n",
       "      <th>18752</th>\n",
       "      <td>OneRepublic</td>\n",
       "      <td>Counting Stars</td>\n",
       "      <td>68</td>\n",
       "    </tr>\n",
       "    <tr>\n",
       "      <th>14807</th>\n",
       "      <td>LMFAO Featuring Lauren Bennett &amp; GoonRock</td>\n",
       "      <td>Party Rock Anthem</td>\n",
       "      <td>68</td>\n",
       "    </tr>\n",
       "    <tr>\n",
       "      <th>12421</th>\n",
       "      <td>Jewel</td>\n",
       "      <td>Foolish Games/You Were Meant For Me</td>\n",
       "      <td>65</td>\n",
       "    </tr>\n",
       "    <tr>\n",
       "      <th>506</th>\n",
       "      <td>Adele</td>\n",
       "      <td>Rolling In The Deep</td>\n",
       "      <td>65</td>\n",
       "    </tr>\n",
       "    <tr>\n",
       "      <th>4347</th>\n",
       "      <td>Carrie Underwood</td>\n",
       "      <td>Before He Cheats</td>\n",
       "      <td>64</td>\n",
       "    </tr>\n",
       "  </tbody>\n",
       "</table>\n",
       "</div>"
      ],
      "text/plain": [
       "                                       performer  \\\n",
       "11194                            Imagine Dragons   \n",
       "403                                   AWOLNATION   \n",
       "27121                                 The Weeknd   \n",
       "12026                                 Jason Mraz   \n",
       "15008                                LeAnn Rimes   \n",
       "18752                                OneRepublic   \n",
       "14807  LMFAO Featuring Lauren Bennett & GoonRock   \n",
       "12421                                      Jewel   \n",
       "506                                        Adele   \n",
       "4347                            Carrie Underwood   \n",
       "\n",
       "                                      song  count  \n",
       "11194                          Radioactive     87  \n",
       "403                                   Sail     79  \n",
       "27121                      Blinding Lights     76  \n",
       "12026                            I'm Yours     76  \n",
       "15008                        How Do I Live     69  \n",
       "18752                       Counting Stars     68  \n",
       "14807                    Party Rock Anthem     68  \n",
       "12421  Foolish Games/You Were Meant For Me     65  \n",
       "506                    Rolling In The Deep     65  \n",
       "4347                      Before He Cheats     64  "
      ]
     },
     "execution_count": 409,
     "metadata": {},
     "output_type": "execute_result"
    }
   ],
   "source": [
    "popularity = grouped.sort_values(by='count', ascending=False)\n",
    "popularity[:10]"
   ]
  },
  {
   "cell_type": "markdown",
   "id": "b223ced0",
   "metadata": {},
   "source": [
    "**Table Explanation:**\n",
    "The table shows the top ten most popular Billboard 100 songs from 1958-2021, as characterized by the highest count. The count is the number of weeks the song stayed in the Billboard 100. The Imagine Dragons had the most popular song, 'Radioactive', which stayed in the Billboard 100 for a total of 87 weeks. The tenth most popular song is Carrie Underwood's 'Before He Cheats' which stayed in the top 100 for 64 weeks. "
   ]
  },
  {
   "cell_type": "markdown",
   "id": "ff65f0ad",
   "metadata": {},
   "source": [
    "## Part (b):"
   ]
  },
  {
   "cell_type": "markdown",
   "id": "eef9f4b3",
   "metadata": {},
   "source": [
    "<font color=blue>\n",
    "  Is the \"musical diversity\" of the Billboard Top 100 changing over time? Measure the musical diversity of given year as the number of unique songs that appeared in the Billboard Top 100 that year. Make a line graph that plots this measure of musical diversity over the years. The x axis should show the year, while the y axis should show the number of unique songs appearing at any position on the Billboard Top 100 chart in any week that year. For this part, please filter the data set so that it excludes the years 1958 and 2021, since we do not have complete data on either of those years. Give the figure an informative caption in which you explain what is shown in the figure and comment on any interesting trends you see."
   ]
  },
  {
   "cell_type": "markdown",
   "id": "91fa3e57",
   "metadata": {},
   "source": [
    "To start we have taken out the years 1958 and 2021 since they are not complete. Instead of manipulating Billboard directly, we have created a new, filtered df."
   ]
  },
  {
   "cell_type": "code",
   "execution_count": 410,
   "id": "2ff982b0",
   "metadata": {},
   "outputs": [],
   "source": [
    "filtered_billboard = billboard[(billboard['year'] != 1958) & (billboard['year'] != 2021)]"
   ]
  },
  {
   "cell_type": "markdown",
   "id": "0669366c",
   "metadata": {},
   "source": [
    "We now need to find the number of songs in the Billboard 100 each year. To start, we have dropped any duplicates that had the same song name, performer, and year. For instance, Adele's Rolling in the Deep appears many times in the same year because it spent a long time in the top 100, so we are going to filter the data and keep just one mention per year of Rolling in the Deep. "
   ]
  },
  {
   "cell_type": "code",
   "execution_count": 411,
   "id": "218d0ef1",
   "metadata": {},
   "outputs": [
    {
     "data": {
      "text/plain": [
       "1966    832\n",
       "1967    827\n",
       "1964    811\n",
       "2020    804\n",
       "1965    800\n",
       "Name: year, dtype: int64"
      ]
     },
     "execution_count": 411,
     "metadata": {},
     "output_type": "execute_result"
    }
   ],
   "source": [
    "#Taking out the duplicates where performer, song, and year are all the same:\n",
    "billboard_no_duplicates = filtered_billboard.drop_duplicates(subset=['performer', 'song', 'year'])\n",
    "\n",
    "#Value count the number of unique songs that appeared each year:\n",
    "songs_per_year = billboard_no_duplicates['year'].value_counts()\n",
    "songs_per_year[:5]"
   ]
  },
  {
   "cell_type": "markdown",
   "id": "7ea56b3b",
   "metadata": {},
   "source": [
    "Now we have the data we can create a line plot:"
   ]
  },
  {
   "cell_type": "code",
   "execution_count": 412,
   "id": "5ae504a9",
   "metadata": {},
   "outputs": [
    {
     "data": {
      "image/png": "[encoded data removed]",
      "text/plain": [
       "<Figure size 640x480 with 1 Axes>"
      ]
     },
     "metadata": {},
     "output_type": "display_data"
    }
   ],
   "source": [
    "import matplotlib.pyplot as plt\n",
    "\n",
    "songs_per_year = songs_per_year.sort_index()\n",
    "\n",
    "plot(songs_per_year.index, songs_per_year.values, marker='None', linestyle='-')\n",
    "xlabel('Year')\n",
    "ylabel('Number of Unique Songs')\n",
    "title('Number of Unique Songs that Appeared in Billboard 100, per year')\n",
    "show()\n"
   ]
  },
  {
   "cell_type": "markdown",
   "id": "983f3b70",
   "metadata": {},
   "source": [
    "**Line plot summary:** The line plot shows the number of unique songs that appeared in the Billboard 100, every year. From the period 1960 to 2000 there is a rough, downward sloping trend where the number of unique songs that appeared in the Billboard 100 started to decrease each year. At the turn of the new century (2001 and beyond) the line starts to trend upwards again, though is very jagged. By the end of our data set, in 2020, the number of unique songs starts to peak again. In other words, specific songs occupied less time in the billboard 100 in 1960 and 2020 than they did during 1990-2000."
   ]
  },
  {
   "cell_type": "markdown",
   "id": "33b5f2f5",
   "metadata": {},
   "source": [
    "## Part (c):"
   ]
  },
  {
   "cell_type": "markdown",
   "id": "6fd0f7c9",
   "metadata": {},
   "source": [
    "<font color=blue>\n",
    "Define a \"ten-week hit\" as a single song that appeared on the Billboard Top 100 for at least ten weeks. There are 19 artists in U.S. musical history since 1958 who have had at least 30 songs that were \"ten-week hits.\" Make a bar plot for these 19 artists, showing how many ten-week hits each one had in their musical career. Give the plot an informative caption in which you explain what is shown."
   ]
  },
  {
   "cell_type": "markdown",
   "id": "8b3dd370",
   "metadata": {},
   "source": [
    "We are going to start by creating a mask that have songs with a count of ten or more:"
   ]
  },
  {
   "cell_type": "code",
   "execution_count": 419,
   "id": "909c445f",
   "metadata": {},
   "outputs": [
    {
     "name": "stdout",
     "output_type": "stream",
     "text": [
      "Number of ten-week hits: 14807\n"
     ]
    }
   ],
   "source": [
    "ten_week_hit = grouped[grouped['count'] >= 10]\n",
    "print(\"Number of ten-week hits:\", len(ten_week_hit))"
   ]
  },
  {
   "cell_type": "code",
   "execution_count": 420,
   "id": "fc69d43e",
   "metadata": {},
   "outputs": [
    {
     "data": {
      "text/html": [
       "<div>\n",
       "<style scoped>\n",
       "    .dataframe tbody tr th:only-of-type {\n",
       "        vertical-align: middle;\n",
       "    }\n",
       "\n",
       "    .dataframe tbody tr th {\n",
       "        vertical-align: top;\n",
       "    }\n",
       "\n",
       "    .dataframe thead th {\n",
       "        text-align: right;\n",
       "    }\n",
       "</style>\n",
       "<table border=\"1\" class=\"dataframe\">\n",
       "  <thead>\n",
       "    <tr style=\"text-align: right;\">\n",
       "      <th></th>\n",
       "      <th>performer</th>\n",
       "      <th>song</th>\n",
       "      <th>count</th>\n",
       "    </tr>\n",
       "  </thead>\n",
       "  <tbody>\n",
       "    <tr>\n",
       "      <th>0</th>\n",
       "      <td>\"Groove\" Holmes</td>\n",
       "      <td>Misty</td>\n",
       "      <td>11</td>\n",
       "    </tr>\n",
       "    <tr>\n",
       "      <th>2</th>\n",
       "      <td>\"Little\" Jimmy Dickens</td>\n",
       "      <td>May The Bird Of Paradise Fly Up Your Nose</td>\n",
       "      <td>10</td>\n",
       "    </tr>\n",
       "    <tr>\n",
       "      <th>4</th>\n",
       "      <td>\"Weird Al\" Yankovic</td>\n",
       "      <td>Amish Paradise</td>\n",
       "      <td>16</td>\n",
       "    </tr>\n",
       "  </tbody>\n",
       "</table>\n",
       "</div>"
      ],
      "text/plain": [
       "                performer                                       song  count\n",
       "0         \"Groove\" Holmes                                      Misty     11\n",
       "2  \"Little\" Jimmy Dickens  May The Bird Of Paradise Fly Up Your Nose     10\n",
       "4     \"Weird Al\" Yankovic                             Amish Paradise     16"
      ]
     },
     "execution_count": 420,
     "metadata": {},
     "output_type": "execute_result"
    }
   ],
   "source": [
    "ten_week_hit[:3]"
   ]
  },
  {
   "cell_type": "markdown",
   "id": "d632bfce",
   "metadata": {},
   "source": [
    "Without adding another mask of performers with at least 30 ten week hits we have 14807 performers with a ten week hit. \n",
    "\n",
    "The next step is going to be value counting the performers. Since the data contains each specific song and performer as a row, with the counts above 10, I can ignore my counts and just add up the number of times the performers are listed:"
   ]
  },
  {
   "cell_type": "code",
   "execution_count": 414,
   "id": "9ce12fb5",
   "metadata": {},
   "outputs": [
    {
     "data": {
      "text/plain": [
       "Elton John                           52\n",
       "Madonna                              44\n",
       "Kenny Chesney                        42\n",
       "Tim McGraw                           39\n",
       "Keith Urban                          36\n",
       "                                     ..\n",
       "Jerry Vale                            1\n",
       "Jerry Keller                          1\n",
       "Jerry Butler & Brenda Lee Eager       1\n",
       "Jermaine Jackson & Pia Zadora         1\n",
       "will.i.am Featuring Justin Bieber     1\n",
       "Name: performer, Length: 6126, dtype: int64"
      ]
     },
     "execution_count": 414,
     "metadata": {},
     "output_type": "execute_result"
    }
   ],
   "source": [
    "ten_week_artists = ten_week_hit['performer'].value_counts()\n",
    "ten_week_artists"
   ]
  },
  {
   "cell_type": "markdown",
   "id": "7a7d4741",
   "metadata": {},
   "source": [
    "Without filtering this value_counts() list, we see that the list now shrinks to 6126, meaning that multiple artists had ten hit wonders. I am now going to select only the artists with more than 30 of these ten week hits:"
   ]
  },
  {
   "cell_type": "code",
   "execution_count": 421,
   "id": "faba1b93",
   "metadata": {},
   "outputs": [
    {
     "data": {
      "text/plain": [
       "Elton John               52\n",
       "Madonna                  44\n",
       "Kenny Chesney            42\n",
       "Tim McGraw               39\n",
       "Keith Urban              36\n",
       "Stevie Wonder            36\n",
       "Taylor Swift             35\n",
       "Michael Jackson          34\n",
       "The Rolling Stones       33\n",
       "Rod Stewart              33\n",
       "Billy Joel               32\n",
       "Chicago                  31\n",
       "Rascal Flatts            31\n",
       "Drake                    31\n",
       "Jason Aldean             30\n",
       "George Strait            30\n",
       "Brad Paisley             30\n",
       "Neil Diamond             30\n",
       "Daryl Hall John Oates    30\n",
       "Name: performer, dtype: int64"
      ]
     },
     "execution_count": 421,
     "metadata": {},
     "output_type": "execute_result"
    }
   ],
   "source": [
    "top_ten_week_artists = ten_week_artists[ten_week_artists >= 30]\n",
    "top_ten_week_artists"
   ]
  },
  {
   "cell_type": "markdown",
   "id": "73f641c2",
   "metadata": {},
   "source": [
    "To check that I have the right number of artists (I should have 19), I am going to print the length of the new dataframe:"
   ]
  },
  {
   "cell_type": "code",
   "execution_count": 422,
   "id": "8e10b8b2",
   "metadata": {},
   "outputs": [
    {
     "name": "stdout",
     "output_type": "stream",
     "text": [
      "Artists who had 30 or more 10 week hits: 19\n"
     ]
    }
   ],
   "source": [
    "print(\"Artists who had 30 or more 10 week hits:\", len(ten_week_artists_filtered))"
   ]
  },
  {
   "cell_type": "code",
   "execution_count": 426,
   "id": "4051fbba",
   "metadata": {},
   "outputs": [
    {
     "data": {
      "text/plain": [
       "Text(0, 0.5, 'Number of 10-week hit songs')"
      ]
     },
     "execution_count": 426,
     "metadata": {},
     "output_type": "execute_result"
    },
    {
     "data": {
      "image/png": "[encoded data removed]",
      "text/plain": [
       "<Figure size 640x480 with 1 Axes>"
      ]
     },
     "metadata": {},
     "output_type": "display_data"
    }
   ],
   "source": [
    "top_ten_week_artists.plot(kind = 'bar')\n",
    "title(\"Performers ranked by the number songs that stayed in the Billboard 100 for 10 or more weeks\")\n",
    "xlabel(\"Performers\")\n",
    "ylabel(\"Number of 10-week hit songs\")"
   ]
  },
  {
   "cell_type": "markdown",
   "id": "6b838be9",
   "metadata": {},
   "source": [
    "**Bar plot summary:** This bar chart shows the 19 performers who have 30 or more songs which have all been in the Billboard 100 for at least ten weeks (during 1958-2021*). The names are ranked in descending order, with Elton John having the most songs that hit this criteria. The last five artists have exactly 30 songs that are ten-week hits.\n",
    "\n",
    "**NB: 1958 and 2021 are not measured as whole years*"
   ]
  },
  {
   "cell_type": "markdown",
   "id": "a0ea40cf",
   "metadata": {},
   "source": [
    "*As a way of checking my work for this question I have used the entire dataset, and focused on weeks_on_chart. weeks_on_chart is not a variable that is of interest in the question specifically, but can be used to find the same answers:*"
   ]
  },
  {
   "cell_type": "code",
   "execution_count": 429,
   "id": "95e5119a",
   "metadata": {},
   "outputs": [
    {
     "name": "stdout",
     "output_type": "stream",
     "text": [
      "Checking the number of 30 10-week hit artists: 19\n"
     ]
    }
   ],
   "source": [
    "#To save space and avoid confusion the code for checking the question is all in the same block.\n",
    "\n",
    "#QUESTION 1:\n",
    "#Creating a table with performer, song, and weeks on chart:\n",
    "#Taking only the max value of weeks on chart and dropping the rest\n",
    "checker_billboard = imported_billboard.groupby(['performer', 'song'], as_index=False)['weeks_on_chart'].max()\n",
    "checker_billboard[:2]\n",
    "\n",
    "checker_popularity = checker_billboard.sort_values(by='weeks_on_chart', ascending=False)\n",
    "checker_popularity[:10]\n",
    "\n",
    "\n",
    "#QUESTION 3:\n",
    "#Creating a mask for hits that were on billboard for ten or more weeks\n",
    "checker_ten_week_hit = checker_billboard[checker_billboard['weeks_on_chart'] >= 10]\n",
    "checker_ten_week_hit[:3]\n",
    "\n",
    "#Value Counting for performers to get how many hits they have \n",
    "filtered_again = ten_week_hit1['performer'].value_counts()\n",
    "ten_week_artists_filtered = filtered_again[filtered_again >= 30]\n",
    "#Finding the length to confirm we have 19 artists\n",
    "print(\"Checking the number of 30 10-week hit artists:\",len(ten_week_artists_filtered))"
   ]
  },
  {
   "cell_type": "markdown",
   "id": "d353726d",
   "metadata": {},
   "source": [
    "# Visual story telling part 1: green buildings\n"
   ]
  },
  {
   "cell_type": "markdown",
   "id": "607a8a13",
   "metadata": {},
   "source": [
    "<font color=blue>\n",
    "    \n",
    "Will investing in a green building be worth it, from an economic perspective? The baseline construction costs are $100 million, with a 5% expected premium for green certification."
   ]
  },
  {
   "cell_type": "code",
   "execution_count": 134,
   "id": "86379fc2",
   "metadata": {},
   "outputs": [
    {
     "data": {
      "text/html": [
       "<div>\n",
       "<style scoped>\n",
       "    .dataframe tbody tr th:only-of-type {\n",
       "        vertical-align: middle;\n",
       "    }\n",
       "\n",
       "    .dataframe tbody tr th {\n",
       "        vertical-align: top;\n",
       "    }\n",
       "\n",
       "    .dataframe thead th {\n",
       "        text-align: right;\n",
       "    }\n",
       "</style>\n",
       "<table border=\"1\" class=\"dataframe\">\n",
       "  <thead>\n",
       "    <tr style=\"text-align: right;\">\n",
       "      <th></th>\n",
       "      <th>CS_PropertyID</th>\n",
       "      <th>cluster</th>\n",
       "      <th>size</th>\n",
       "      <th>empl_gr</th>\n",
       "      <th>Rent</th>\n",
       "      <th>leasing_rate</th>\n",
       "      <th>stories</th>\n",
       "      <th>age</th>\n",
       "      <th>renovated</th>\n",
       "      <th>class_a</th>\n",
       "      <th>...</th>\n",
       "      <th>green_rating</th>\n",
       "      <th>net</th>\n",
       "      <th>amenities</th>\n",
       "      <th>cd_total_07</th>\n",
       "      <th>hd_total07</th>\n",
       "      <th>total_dd_07</th>\n",
       "      <th>Precipitation</th>\n",
       "      <th>Gas_Costs</th>\n",
       "      <th>Electricity_Costs</th>\n",
       "      <th>cluster_rent</th>\n",
       "    </tr>\n",
       "  </thead>\n",
       "  <tbody>\n",
       "    <tr>\n",
       "      <th>0</th>\n",
       "      <td>379105</td>\n",
       "      <td>1</td>\n",
       "      <td>260300</td>\n",
       "      <td>2.22</td>\n",
       "      <td>38.56</td>\n",
       "      <td>91.39</td>\n",
       "      <td>14</td>\n",
       "      <td>16</td>\n",
       "      <td>0</td>\n",
       "      <td>1</td>\n",
       "      <td>...</td>\n",
       "      <td>1</td>\n",
       "      <td>0</td>\n",
       "      <td>1</td>\n",
       "      <td>4988</td>\n",
       "      <td>58</td>\n",
       "      <td>5046</td>\n",
       "      <td>42.57</td>\n",
       "      <td>0.013700</td>\n",
       "      <td>0.029000</td>\n",
       "      <td>36.78</td>\n",
       "    </tr>\n",
       "    <tr>\n",
       "      <th>1</th>\n",
       "      <td>122151</td>\n",
       "      <td>1</td>\n",
       "      <td>67861</td>\n",
       "      <td>2.22</td>\n",
       "      <td>28.57</td>\n",
       "      <td>87.14</td>\n",
       "      <td>5</td>\n",
       "      <td>27</td>\n",
       "      <td>0</td>\n",
       "      <td>0</td>\n",
       "      <td>...</td>\n",
       "      <td>0</td>\n",
       "      <td>0</td>\n",
       "      <td>1</td>\n",
       "      <td>4988</td>\n",
       "      <td>58</td>\n",
       "      <td>5046</td>\n",
       "      <td>42.57</td>\n",
       "      <td>0.013731</td>\n",
       "      <td>0.029045</td>\n",
       "      <td>36.78</td>\n",
       "    </tr>\n",
       "    <tr>\n",
       "      <th>2</th>\n",
       "      <td>379839</td>\n",
       "      <td>1</td>\n",
       "      <td>164848</td>\n",
       "      <td>2.22</td>\n",
       "      <td>33.31</td>\n",
       "      <td>88.94</td>\n",
       "      <td>13</td>\n",
       "      <td>36</td>\n",
       "      <td>1</td>\n",
       "      <td>0</td>\n",
       "      <td>...</td>\n",
       "      <td>0</td>\n",
       "      <td>0</td>\n",
       "      <td>1</td>\n",
       "      <td>4988</td>\n",
       "      <td>58</td>\n",
       "      <td>5046</td>\n",
       "      <td>42.57</td>\n",
       "      <td>0.013731</td>\n",
       "      <td>0.029045</td>\n",
       "      <td>36.78</td>\n",
       "    </tr>\n",
       "  </tbody>\n",
       "</table>\n",
       "<p>3 rows × 23 columns</p>\n",
       "</div>"
      ],
      "text/plain": [
       "   CS_PropertyID  cluster    size  empl_gr   Rent  leasing_rate  stories  age  \\\n",
       "0         379105        1  260300     2.22  38.56         91.39       14   16   \n",
       "1         122151        1   67861     2.22  28.57         87.14        5   27   \n",
       "2         379839        1  164848     2.22  33.31         88.94       13   36   \n",
       "\n",
       "   renovated  class_a  ...  green_rating  net  amenities  cd_total_07  \\\n",
       "0          0        1  ...             1    0          1         4988   \n",
       "1          0        0  ...             0    0          1         4988   \n",
       "2          1        0  ...             0    0          1         4988   \n",
       "\n",
       "   hd_total07  total_dd_07  Precipitation  Gas_Costs  Electricity_Costs  \\\n",
       "0          58         5046          42.57   0.013700           0.029000   \n",
       "1          58         5046          42.57   0.013731           0.029045   \n",
       "2          58         5046          42.57   0.013731           0.029045   \n",
       "\n",
       "   cluster_rent  \n",
       "0         36.78  \n",
       "1         36.78  \n",
       "2         36.78  \n",
       "\n",
       "[3 rows x 23 columns]"
      ]
     },
     "execution_count": 134,
     "metadata": {},
     "output_type": "execute_result"
    }
   ],
   "source": [
    "greenbuildings = pd.read_csv('greenbuildings.csv')\n",
    "greenbuildings[:3]"
   ]
  },
  {
   "cell_type": "code",
   "execution_count": 272,
   "id": "08268de2",
   "metadata": {},
   "outputs": [
    {
     "data": {
      "text/html": [
       "<div>\n",
       "<style scoped>\n",
       "    .dataframe tbody tr th:only-of-type {\n",
       "        vertical-align: middle;\n",
       "    }\n",
       "\n",
       "    .dataframe tbody tr th {\n",
       "        vertical-align: top;\n",
       "    }\n",
       "\n",
       "    .dataframe thead th {\n",
       "        text-align: right;\n",
       "    }\n",
       "</style>\n",
       "<table border=\"1\" class=\"dataframe\">\n",
       "  <thead>\n",
       "    <tr style=\"text-align: right;\">\n",
       "      <th></th>\n",
       "      <th>CS_PropertyID</th>\n",
       "      <th>Rent</th>\n",
       "      <th>leasing_rate</th>\n",
       "      <th>stories</th>\n",
       "      <th>age</th>\n",
       "      <th>green_rating</th>\n",
       "      <th>Gas_Costs</th>\n",
       "      <th>Electricity_Costs</th>\n",
       "      <th>Total_Costs</th>\n",
       "    </tr>\n",
       "  </thead>\n",
       "  <tbody>\n",
       "    <tr>\n",
       "      <th>0</th>\n",
       "      <td>379105</td>\n",
       "      <td>38.56</td>\n",
       "      <td>91.39</td>\n",
       "      <td>14</td>\n",
       "      <td>16</td>\n",
       "      <td>1</td>\n",
       "      <td>0.013700</td>\n",
       "      <td>0.029000</td>\n",
       "      <td>0.042700</td>\n",
       "    </tr>\n",
       "    <tr>\n",
       "      <th>1</th>\n",
       "      <td>122151</td>\n",
       "      <td>28.57</td>\n",
       "      <td>87.14</td>\n",
       "      <td>5</td>\n",
       "      <td>27</td>\n",
       "      <td>0</td>\n",
       "      <td>0.013731</td>\n",
       "      <td>0.029045</td>\n",
       "      <td>0.042776</td>\n",
       "    </tr>\n",
       "  </tbody>\n",
       "</table>\n",
       "</div>"
      ],
      "text/plain": [
       "   CS_PropertyID   Rent  leasing_rate  stories  age  green_rating  Gas_Costs  \\\n",
       "0         379105  38.56         91.39       14   16             1   0.013700   \n",
       "1         122151  28.57         87.14        5   27             0   0.013731   \n",
       "\n",
       "   Electricity_Costs  Total_Costs  \n",
       "0           0.029000     0.042700  \n",
       "1           0.029045     0.042776  "
      ]
     },
     "execution_count": 272,
     "metadata": {},
     "output_type": "execute_result"
    }
   ],
   "source": [
    "buildings = greenbuildings[['CS_PropertyID', 'Rent', 'leasing_rate', 'stories', 'age', 'green_rating', 'Gas_Costs', 'Electricity_Costs']]\n",
    "\n",
    "buildings[:5]\n",
    "\n",
    "buildings['Total_Costs'] = buildings['Gas_Costs'] + buildings['Electricity_Costs']\n",
    "buildings[:2]\n"
   ]
  },
  {
   "cell_type": "code",
   "execution_count": 176,
   "id": "cf78bbdb",
   "metadata": {},
   "outputs": [],
   "source": [
    "green_building = buildings[buildings['green_rating'] == 1]\n",
    "not_green_building = buildings[buildings['green_rating'] == 0]"
   ]
  },
  {
   "cell_type": "code",
   "execution_count": 179,
   "id": "b9730891",
   "metadata": {},
   "outputs": [
    {
     "data": {
      "text/html": [
       "<div>\n",
       "<style scoped>\n",
       "    .dataframe tbody tr th:only-of-type {\n",
       "        vertical-align: middle;\n",
       "    }\n",
       "\n",
       "    .dataframe tbody tr th {\n",
       "        vertical-align: top;\n",
       "    }\n",
       "\n",
       "    .dataframe thead th {\n",
       "        text-align: right;\n",
       "    }\n",
       "</style>\n",
       "<table border=\"1\" class=\"dataframe\">\n",
       "  <thead>\n",
       "    <tr style=\"text-align: right;\">\n",
       "      <th></th>\n",
       "      <th>CS_PropertyID</th>\n",
       "      <th>Rent</th>\n",
       "      <th>leasing_rate</th>\n",
       "      <th>stories</th>\n",
       "      <th>age</th>\n",
       "      <th>green_rating</th>\n",
       "      <th>Gas_Costs</th>\n",
       "      <th>Electricity_Costs</th>\n",
       "      <th>Total_Costs</th>\n",
       "    </tr>\n",
       "  </thead>\n",
       "  <tbody>\n",
       "    <tr>\n",
       "      <th>CS_PropertyID</th>\n",
       "      <td>1.000000</td>\n",
       "      <td>-0.154618</td>\n",
       "      <td>-0.130160</td>\n",
       "      <td>-0.091558</td>\n",
       "      <td>0.014437</td>\n",
       "      <td>-0.022379</td>\n",
       "      <td>0.239523</td>\n",
       "      <td>0.034441</td>\n",
       "      <td>0.092523</td>\n",
       "    </tr>\n",
       "    <tr>\n",
       "      <th>Rent</th>\n",
       "      <td>-0.154618</td>\n",
       "      <td>1.000000</td>\n",
       "      <td>0.179068</td>\n",
       "      <td>0.116111</td>\n",
       "      <td>-0.102664</td>\n",
       "      <td>0.032666</td>\n",
       "      <td>0.000621</td>\n",
       "      <td>0.391659</td>\n",
       "      <td>0.355501</td>\n",
       "    </tr>\n",
       "    <tr>\n",
       "      <th>leasing_rate</th>\n",
       "      <td>-0.130160</td>\n",
       "      <td>0.179068</td>\n",
       "      <td>1.000000</td>\n",
       "      <td>0.207707</td>\n",
       "      <td>-0.123674</td>\n",
       "      <td>0.096251</td>\n",
       "      <td>0.021810</td>\n",
       "      <td>0.046626</td>\n",
       "      <td>0.047883</td>\n",
       "    </tr>\n",
       "    <tr>\n",
       "      <th>stories</th>\n",
       "      <td>-0.091558</td>\n",
       "      <td>0.116111</td>\n",
       "      <td>0.207707</td>\n",
       "      <td>1.000000</td>\n",
       "      <td>-0.145022</td>\n",
       "      <td>0.043791</td>\n",
       "      <td>0.056040</td>\n",
       "      <td>-0.093030</td>\n",
       "      <td>-0.070068</td>\n",
       "    </tr>\n",
       "    <tr>\n",
       "      <th>age</th>\n",
       "      <td>0.014437</td>\n",
       "      <td>-0.102664</td>\n",
       "      <td>-0.123674</td>\n",
       "      <td>-0.145022</td>\n",
       "      <td>1.000000</td>\n",
       "      <td>-0.224051</td>\n",
       "      <td>-0.054667</td>\n",
       "      <td>-0.058857</td>\n",
       "      <td>-0.067385</td>\n",
       "    </tr>\n",
       "    <tr>\n",
       "      <th>green_rating</th>\n",
       "      <td>-0.022379</td>\n",
       "      <td>0.032666</td>\n",
       "      <td>0.096251</td>\n",
       "      <td>0.043791</td>\n",
       "      <td>-0.224051</td>\n",
       "      <td>1.000000</td>\n",
       "      <td>-0.030859</td>\n",
       "      <td>0.022507</td>\n",
       "      <td>0.012526</td>\n",
       "    </tr>\n",
       "    <tr>\n",
       "      <th>Gas_Costs</th>\n",
       "      <td>0.239523</td>\n",
       "      <td>0.000621</td>\n",
       "      <td>0.021810</td>\n",
       "      <td>0.056040</td>\n",
       "      <td>-0.054667</td>\n",
       "      <td>-0.030859</td>\n",
       "      <td>1.000000</td>\n",
       "      <td>0.239986</td>\n",
       "      <td>0.473559</td>\n",
       "    </tr>\n",
       "    <tr>\n",
       "      <th>Electricity_Costs</th>\n",
       "      <td>0.034441</td>\n",
       "      <td>0.391659</td>\n",
       "      <td>0.046626</td>\n",
       "      <td>-0.093030</td>\n",
       "      <td>-0.058857</td>\n",
       "      <td>0.022507</td>\n",
       "      <td>0.239986</td>\n",
       "      <td>1.000000</td>\n",
       "      <td>0.968671</td>\n",
       "    </tr>\n",
       "    <tr>\n",
       "      <th>Total_Costs</th>\n",
       "      <td>0.092523</td>\n",
       "      <td>0.355501</td>\n",
       "      <td>0.047883</td>\n",
       "      <td>-0.070068</td>\n",
       "      <td>-0.067385</td>\n",
       "      <td>0.012526</td>\n",
       "      <td>0.473559</td>\n",
       "      <td>0.968671</td>\n",
       "      <td>1.000000</td>\n",
       "    </tr>\n",
       "  </tbody>\n",
       "</table>\n",
       "</div>"
      ],
      "text/plain": [
       "                   CS_PropertyID      Rent  leasing_rate   stories       age  \\\n",
       "CS_PropertyID           1.000000 -0.154618     -0.130160 -0.091558  0.014437   \n",
       "Rent                   -0.154618  1.000000      0.179068  0.116111 -0.102664   \n",
       "leasing_rate           -0.130160  0.179068      1.000000  0.207707 -0.123674   \n",
       "stories                -0.091558  0.116111      0.207707  1.000000 -0.145022   \n",
       "age                     0.014437 -0.102664     -0.123674 -0.145022  1.000000   \n",
       "green_rating           -0.022379  0.032666      0.096251  0.043791 -0.224051   \n",
       "Gas_Costs               0.239523  0.000621      0.021810  0.056040 -0.054667   \n",
       "Electricity_Costs       0.034441  0.391659      0.046626 -0.093030 -0.058857   \n",
       "Total_Costs             0.092523  0.355501      0.047883 -0.070068 -0.067385   \n",
       "\n",
       "                   green_rating  Gas_Costs  Electricity_Costs  Total_Costs  \n",
       "CS_PropertyID         -0.022379   0.239523           0.034441     0.092523  \n",
       "Rent                   0.032666   0.000621           0.391659     0.355501  \n",
       "leasing_rate           0.096251   0.021810           0.046626     0.047883  \n",
       "stories                0.043791   0.056040          -0.093030    -0.070068  \n",
       "age                   -0.224051  -0.054667          -0.058857    -0.067385  \n",
       "green_rating           1.000000  -0.030859           0.022507     0.012526  \n",
       "Gas_Costs             -0.030859   1.000000           0.239986     0.473559  \n",
       "Electricity_Costs      0.022507   0.239986           1.000000     0.968671  \n",
       "Total_Costs            0.012526   0.473559           0.968671     1.000000  "
      ]
     },
     "execution_count": 179,
     "metadata": {},
     "output_type": "execute_result"
    }
   ],
   "source": [
    "buildings.corr()"
   ]
  },
  {
   "cell_type": "code",
   "execution_count": null,
   "id": "2ac1ac08",
   "metadata": {},
   "outputs": [],
   "source": []
  },
  {
   "cell_type": "code",
   "execution_count": null,
   "id": "96fd45cc",
   "metadata": {},
   "outputs": [],
   "source": []
  },
  {
   "cell_type": "code",
   "execution_count": null,
   "id": "8f9a8cae",
   "metadata": {},
   "outputs": [],
   "source": []
  },
  {
   "cell_type": "code",
   "execution_count": null,
   "id": "f9deb71b",
   "metadata": {},
   "outputs": [],
   "source": []
  },
  {
   "cell_type": "code",
   "execution_count": null,
   "id": "cb8ec699",
   "metadata": {},
   "outputs": [],
   "source": []
  },
  {
   "cell_type": "code",
   "execution_count": null,
   "id": "b6f52a95",
   "metadata": {},
   "outputs": [],
   "source": []
  },
  {
   "cell_type": "code",
   "execution_count": null,
   "id": "35a08b2d",
   "metadata": {},
   "outputs": [],
   "source": []
  },
  {
   "cell_type": "markdown",
   "id": "09c73255",
   "metadata": {},
   "source": [
    "# Visual story telling part 2: Capital Metro data\n"
   ]
  },
  {
   "cell_type": "markdown",
   "id": "6052611c",
   "metadata": {},
   "source": [
    "<font color=blue>\n",
    "Your task is to create a figure, or set of related figures, that tell an interesting story about Capital Metro ridership patterns around the UT-Austin campus during the semester in question. Provide a clear annotation/caption for each figure, but the figure(s) should be more or less stand-alone, in that you shouldn't need many, many paragraphs to convey its meaning. Rather, the figure together with a concise caption should speak for itself as far as possible.\n",
    "<br>\n",
    "    \n",
    "You have broad freedom to look at any variables you'd like here -- try to find that sweet spot where you're showing genuinely interesting relationships among more than just two variables, but where the resulting figure or set of figures doesn't become overwhelming/confusing. (Faceting/panel plots might be especially useful here.)"
   ]
  },
  {
   "cell_type": "markdown",
   "id": "2442ee8b",
   "metadata": {},
   "source": [
    "To start I am going to view my data and make some additional columns and changes. This is not part of the visualization/stories."
   ]
  },
  {
   "cell_type": "code",
   "execution_count": 652,
   "id": "25345f58",
   "metadata": {},
   "outputs": [
    {
     "data": {
      "text/html": [
       "<div>\n",
       "<style scoped>\n",
       "    .dataframe tbody tr th:only-of-type {\n",
       "        vertical-align: middle;\n",
       "    }\n",
       "\n",
       "    .dataframe tbody tr th {\n",
       "        vertical-align: top;\n",
       "    }\n",
       "\n",
       "    .dataframe thead th {\n",
       "        text-align: right;\n",
       "    }\n",
       "</style>\n",
       "<table border=\"1\" class=\"dataframe\">\n",
       "  <thead>\n",
       "    <tr style=\"text-align: right;\">\n",
       "      <th></th>\n",
       "      <th>timestamp</th>\n",
       "      <th>boarding</th>\n",
       "      <th>alighting</th>\n",
       "      <th>day_of_week</th>\n",
       "      <th>temperature</th>\n",
       "      <th>hour_of_day</th>\n",
       "      <th>month</th>\n",
       "      <th>weekend</th>\n",
       "    </tr>\n",
       "  </thead>\n",
       "  <tbody>\n",
       "    <tr>\n",
       "      <th>0</th>\n",
       "      <td>2018-09-01 06:00:00</td>\n",
       "      <td>0</td>\n",
       "      <td>1</td>\n",
       "      <td>Sat</td>\n",
       "      <td>74.82</td>\n",
       "      <td>6</td>\n",
       "      <td>Sep</td>\n",
       "      <td>weekend</td>\n",
       "    </tr>\n",
       "    <tr>\n",
       "      <th>1</th>\n",
       "      <td>2018-09-01 06:15:00</td>\n",
       "      <td>2</td>\n",
       "      <td>1</td>\n",
       "      <td>Sat</td>\n",
       "      <td>74.82</td>\n",
       "      <td>6</td>\n",
       "      <td>Sep</td>\n",
       "      <td>weekend</td>\n",
       "    </tr>\n",
       "  </tbody>\n",
       "</table>\n",
       "</div>"
      ],
      "text/plain": [
       "             timestamp  boarding  alighting day_of_week  temperature  \\\n",
       "0  2018-09-01 06:00:00         0          1         Sat        74.82   \n",
       "1  2018-09-01 06:15:00         2          1         Sat        74.82   \n",
       "\n",
       "   hour_of_day month  weekend  \n",
       "0            6   Sep  weekend  \n",
       "1            6   Sep  weekend  "
      ]
     },
     "execution_count": 652,
     "metadata": {},
     "output_type": "execute_result"
    }
   ],
   "source": [
    "#Reading the file and viewing the first few rows:\n",
    "metro = pd.read_csv('capmetro_UT.csv')\n",
    "metro[:2]"
   ]
  },
  {
   "cell_type": "markdown",
   "id": "50567940",
   "metadata": {},
   "source": [
    "After looking at this data I want to separate the timestamp with date and time in different columns.\n",
    "\n",
    "*I will keep the timestamp column in case I need it later down the line.*"
   ]
  },
  {
   "cell_type": "code",
   "execution_count": 654,
   "id": "9729fa90",
   "metadata": {},
   "outputs": [
    {
     "data": {
      "text/html": [
       "<div>\n",
       "<style scoped>\n",
       "    .dataframe tbody tr th:only-of-type {\n",
       "        vertical-align: middle;\n",
       "    }\n",
       "\n",
       "    .dataframe tbody tr th {\n",
       "        vertical-align: top;\n",
       "    }\n",
       "\n",
       "    .dataframe thead th {\n",
       "        text-align: right;\n",
       "    }\n",
       "</style>\n",
       "<table border=\"1\" class=\"dataframe\">\n",
       "  <thead>\n",
       "    <tr style=\"text-align: right;\">\n",
       "      <th></th>\n",
       "      <th>timestamp</th>\n",
       "      <th>boarding</th>\n",
       "      <th>alighting</th>\n",
       "      <th>day_of_week</th>\n",
       "      <th>temperature</th>\n",
       "      <th>hour_of_day</th>\n",
       "      <th>month</th>\n",
       "      <th>weekend</th>\n",
       "      <th>date</th>\n",
       "      <th>time</th>\n",
       "      <th>minutes</th>\n",
       "    </tr>\n",
       "  </thead>\n",
       "  <tbody>\n",
       "    <tr>\n",
       "      <th>0</th>\n",
       "      <td>2018-09-01 06:00:00</td>\n",
       "      <td>0</td>\n",
       "      <td>1</td>\n",
       "      <td>Sat</td>\n",
       "      <td>74.82</td>\n",
       "      <td>6</td>\n",
       "      <td>Sep</td>\n",
       "      <td>weekend</td>\n",
       "      <td>2018-09-01</td>\n",
       "      <td>06:00:00</td>\n",
       "      <td>0</td>\n",
       "    </tr>\n",
       "    <tr>\n",
       "      <th>1</th>\n",
       "      <td>2018-09-01 06:15:00</td>\n",
       "      <td>2</td>\n",
       "      <td>1</td>\n",
       "      <td>Sat</td>\n",
       "      <td>74.82</td>\n",
       "      <td>6</td>\n",
       "      <td>Sep</td>\n",
       "      <td>weekend</td>\n",
       "      <td>2018-09-01</td>\n",
       "      <td>06:15:00</td>\n",
       "      <td>15</td>\n",
       "    </tr>\n",
       "  </tbody>\n",
       "</table>\n",
       "</div>"
      ],
      "text/plain": [
       "            timestamp  boarding  alighting day_of_week  temperature  \\\n",
       "0 2018-09-01 06:00:00         0          1         Sat        74.82   \n",
       "1 2018-09-01 06:15:00         2          1         Sat        74.82   \n",
       "\n",
       "   hour_of_day month  weekend        date      time  minutes  \n",
       "0            6   Sep  weekend  2018-09-01  06:00:00        0  \n",
       "1            6   Sep  weekend  2018-09-01  06:15:00       15  "
      ]
     },
     "execution_count": 654,
     "metadata": {},
     "output_type": "execute_result"
    }
   ],
   "source": [
    "metro['timestamp'] = pd.to_datetime(metro['timestamp'])\n",
    "metro['date'] = metro['timestamp'].dt.date\n",
    "metro['time'] = metro['timestamp'].dt.time\n",
    "metro['minutes'] = metro['timestamp'].dt.minute\n",
    "metro[:2]"
   ]
  },
  {
   "cell_type": "markdown",
   "id": "8378d0c9",
   "metadata": {},
   "source": [
    "I also want to rename the weekend column to weekend_weekday as it is confusing right now naming the column as one of the response answers."
   ]
  },
  {
   "cell_type": "code",
   "execution_count": 655,
   "id": "197c6913",
   "metadata": {},
   "outputs": [],
   "source": [
    "metro.rename(columns={'weekend': 'weekend_weekday'}, inplace=True)"
   ]
  },
  {
   "cell_type": "markdown",
   "id": "bcb395fb",
   "metadata": {},
   "source": [
    "I want to see the difference between people getting on and off the metro as this may be useful. Below I have added another column, 'board_alight_difference', which is just boarding minus alighting. Positive values mean more people boarded the metro than got off, vice versa for negative. A 0 value means the same number of people got on/off."
   ]
  },
  {
   "cell_type": "code",
   "execution_count": 656,
   "id": "cf47b235",
   "metadata": {},
   "outputs": [
    {
     "data": {
      "text/html": [
       "<div>\n",
       "<style scoped>\n",
       "    .dataframe tbody tr th:only-of-type {\n",
       "        vertical-align: middle;\n",
       "    }\n",
       "\n",
       "    .dataframe tbody tr th {\n",
       "        vertical-align: top;\n",
       "    }\n",
       "\n",
       "    .dataframe thead th {\n",
       "        text-align: right;\n",
       "    }\n",
       "</style>\n",
       "<table border=\"1\" class=\"dataframe\">\n",
       "  <thead>\n",
       "    <tr style=\"text-align: right;\">\n",
       "      <th></th>\n",
       "      <th>timestamp</th>\n",
       "      <th>boarding</th>\n",
       "      <th>alighting</th>\n",
       "      <th>day_of_week</th>\n",
       "      <th>temperature</th>\n",
       "      <th>hour_of_day</th>\n",
       "      <th>month</th>\n",
       "      <th>weekend_weekday</th>\n",
       "      <th>date</th>\n",
       "      <th>time</th>\n",
       "      <th>minutes</th>\n",
       "      <th>board_alight_difference</th>\n",
       "    </tr>\n",
       "  </thead>\n",
       "  <tbody>\n",
       "    <tr>\n",
       "      <th>0</th>\n",
       "      <td>2018-09-01 06:00:00</td>\n",
       "      <td>0</td>\n",
       "      <td>1</td>\n",
       "      <td>Sat</td>\n",
       "      <td>74.82</td>\n",
       "      <td>6</td>\n",
       "      <td>Sep</td>\n",
       "      <td>weekend</td>\n",
       "      <td>2018-09-01</td>\n",
       "      <td>06:00:00</td>\n",
       "      <td>0</td>\n",
       "      <td>-1</td>\n",
       "    </tr>\n",
       "    <tr>\n",
       "      <th>1</th>\n",
       "      <td>2018-09-01 06:15:00</td>\n",
       "      <td>2</td>\n",
       "      <td>1</td>\n",
       "      <td>Sat</td>\n",
       "      <td>74.82</td>\n",
       "      <td>6</td>\n",
       "      <td>Sep</td>\n",
       "      <td>weekend</td>\n",
       "      <td>2018-09-01</td>\n",
       "      <td>06:15:00</td>\n",
       "      <td>15</td>\n",
       "      <td>1</td>\n",
       "    </tr>\n",
       "  </tbody>\n",
       "</table>\n",
       "</div>"
      ],
      "text/plain": [
       "            timestamp  boarding  alighting day_of_week  temperature  \\\n",
       "0 2018-09-01 06:00:00         0          1         Sat        74.82   \n",
       "1 2018-09-01 06:15:00         2          1         Sat        74.82   \n",
       "\n",
       "   hour_of_day month weekend_weekday        date      time  minutes  \\\n",
       "0            6   Sep         weekend  2018-09-01  06:00:00        0   \n",
       "1            6   Sep         weekend  2018-09-01  06:15:00       15   \n",
       "\n",
       "   board_alight_difference  \n",
       "0                       -1  \n",
       "1                        1  "
      ]
     },
     "execution_count": 656,
     "metadata": {},
     "output_type": "execute_result"
    }
   ],
   "source": [
    "metro['board_alight_difference'] = metro['boarding'] - metro['alighting']\n",
    "metro[:2]"
   ]
  },
  {
   "cell_type": "markdown",
   "id": "3c4b9552",
   "metadata": {},
   "source": [
    "Next I am just going to look at a summary statistics table to get a better idea of what I am looking at:\n",
    "- The SD for both boarding and alighting is fairly high, meaning there are heavy fluctuations in who is getting on and off each day\n",
    "- The temperature range is very drastic, with temperatures dropping to 29F, so this is something I want to look at\n",
    "- The max. hour is 9 and the min. hour is 6 so I assume the metro hours of operation are 6am-10pm\n"
   ]
  },
  {
   "cell_type": "code",
   "execution_count": 657,
   "id": "0c05b304",
   "metadata": {},
   "outputs": [
    {
     "data": {
      "text/html": [
       "<div>\n",
       "<style scoped>\n",
       "    .dataframe tbody tr th:only-of-type {\n",
       "        vertical-align: middle;\n",
       "    }\n",
       "\n",
       "    .dataframe tbody tr th {\n",
       "        vertical-align: top;\n",
       "    }\n",
       "\n",
       "    .dataframe thead th {\n",
       "        text-align: right;\n",
       "    }\n",
       "</style>\n",
       "<table border=\"1\" class=\"dataframe\">\n",
       "  <thead>\n",
       "    <tr style=\"text-align: right;\">\n",
       "      <th></th>\n",
       "      <th>boarding</th>\n",
       "      <th>alighting</th>\n",
       "      <th>temperature</th>\n",
       "      <th>hour_of_day</th>\n",
       "      <th>minutes</th>\n",
       "      <th>board_alight_difference</th>\n",
       "    </tr>\n",
       "  </thead>\n",
       "  <tbody>\n",
       "    <tr>\n",
       "      <th>count</th>\n",
       "      <td>5824.000000</td>\n",
       "      <td>5824.000000</td>\n",
       "      <td>5824.000000</td>\n",
       "      <td>5824.000000</td>\n",
       "      <td>5824.00000</td>\n",
       "      <td>5824.000000</td>\n",
       "    </tr>\n",
       "    <tr>\n",
       "      <th>mean</th>\n",
       "      <td>51.511676</td>\n",
       "      <td>47.646291</td>\n",
       "      <td>69.282473</td>\n",
       "      <td>13.500000</td>\n",
       "      <td>22.50000</td>\n",
       "      <td>3.865385</td>\n",
       "    </tr>\n",
       "    <tr>\n",
       "      <th>std</th>\n",
       "      <td>48.820284</td>\n",
       "      <td>50.069866</td>\n",
       "      <td>13.540249</td>\n",
       "      <td>4.610168</td>\n",
       "      <td>16.77195</td>\n",
       "      <td>65.594585</td>\n",
       "    </tr>\n",
       "    <tr>\n",
       "      <th>min</th>\n",
       "      <td>0.000000</td>\n",
       "      <td>0.000000</td>\n",
       "      <td>29.180000</td>\n",
       "      <td>6.000000</td>\n",
       "      <td>0.00000</td>\n",
       "      <td>-278.000000</td>\n",
       "    </tr>\n",
       "    <tr>\n",
       "      <th>25%</th>\n",
       "      <td>13.000000</td>\n",
       "      <td>13.000000</td>\n",
       "      <td>59.195000</td>\n",
       "      <td>9.750000</td>\n",
       "      <td>11.25000</td>\n",
       "      <td>-13.000000</td>\n",
       "    </tr>\n",
       "    <tr>\n",
       "      <th>50%</th>\n",
       "      <td>33.000000</td>\n",
       "      <td>28.000000</td>\n",
       "      <td>72.750000</td>\n",
       "      <td>13.500000</td>\n",
       "      <td>22.50000</td>\n",
       "      <td>3.000000</td>\n",
       "    </tr>\n",
       "    <tr>\n",
       "      <th>75%</th>\n",
       "      <td>79.250000</td>\n",
       "      <td>64.000000</td>\n",
       "      <td>79.290000</td>\n",
       "      <td>17.250000</td>\n",
       "      <td>33.75000</td>\n",
       "      <td>42.000000</td>\n",
       "    </tr>\n",
       "    <tr>\n",
       "      <th>max</th>\n",
       "      <td>288.000000</td>\n",
       "      <td>304.000000</td>\n",
       "      <td>97.640000</td>\n",
       "      <td>21.000000</td>\n",
       "      <td>45.00000</td>\n",
       "      <td>221.000000</td>\n",
       "    </tr>\n",
       "  </tbody>\n",
       "</table>\n",
       "</div>"
      ],
      "text/plain": [
       "          boarding    alighting  temperature  hour_of_day     minutes  \\\n",
       "count  5824.000000  5824.000000  5824.000000  5824.000000  5824.00000   \n",
       "mean     51.511676    47.646291    69.282473    13.500000    22.50000   \n",
       "std      48.820284    50.069866    13.540249     4.610168    16.77195   \n",
       "min       0.000000     0.000000    29.180000     6.000000     0.00000   \n",
       "25%      13.000000    13.000000    59.195000     9.750000    11.25000   \n",
       "50%      33.000000    28.000000    72.750000    13.500000    22.50000   \n",
       "75%      79.250000    64.000000    79.290000    17.250000    33.75000   \n",
       "max     288.000000   304.000000    97.640000    21.000000    45.00000   \n",
       "\n",
       "       board_alight_difference  \n",
       "count              5824.000000  \n",
       "mean                  3.865385  \n",
       "std                  65.594585  \n",
       "min                -278.000000  \n",
       "25%                 -13.000000  \n",
       "50%                   3.000000  \n",
       "75%                  42.000000  \n",
       "max                 221.000000  "
      ]
     },
     "execution_count": 657,
     "metadata": {},
     "output_type": "execute_result"
    }
   ],
   "source": [
    "metro.describe()"
   ]
  },
  {
   "cell_type": "markdown",
   "id": "5d21ab68",
   "metadata": {},
   "source": [
    "**Visual Story 1: Do People Really Work a 9-5 job?**\n",
    "<br>\n",
    "It is no secret that Austin is difficult city to drive through, with expensive parking costs! With this in mind, I wanted to see if the Metro bus is essential to commuters, going to College or working at the UT Campus. While the data does not reveal the type of people using the Metro Bus service explicity, I feel as though it is safe to assume that most of these users are commuters for work/college. With that, I ask the question of whether these people are actually commuters, and if they are working/studying during the typical 9am-5pm time frame. \n",
    "\n",
    "In order to find this out I have created two bar charts:\n",
    "\n",
    "**Bar Chart 1** looks at the number of people boarding (i.e. leaving campus) the Metro per hour, but splits the data into weekdays and weekends. The trend shows us that the usage on weekends does not fluctate like it does during the week. In fact, on weekends, usage remains at a very low level from the hours of 10am-7pm. Any hours outside of this on the weekend are virtually non existent. On the other hand, the boarding levels for a week day center around 3-5pm, revealing that most people are leaving campus around this time. This chart cements my assumption of commuters, with most workers/students not working/in school on the weekends.\n",
    "\n",
    "\n",
    "**Bar Chart 2** looks at the number of people boarding and alighting, on average, every hour of the day. Since the previous bar chart showed no severe fluctuations in the weekend data I have applied the boarding/alighting mean hourly values to the whole data set, irrespective of the day. This bar chart shows us that most people are using the Metro and getting off on campus at around 8-10am, and most leave around 3-5pm. Of course, we do not know for sure if the individuals who are alighting in the peak alighting times are the same individuals who are boarding during the peak boarding times. Notwithstanding, is does seem safe to create the story that people truly are working a 9-5 (or at least a 9-4)!\n",
    "\n",
    "*For the purpose of this paper students are considered to be working. "
   ]
  },
  {
   "cell_type": "code",
   "execution_count": 679,
   "id": "9f468cea",
   "metadata": {},
   "outputs": [
    {
     "data": {
      "image/png": "[encoded data removed]",
      "text/plain": [
       "<Figure size 1200x600 with 2 Axes>"
      ]
     },
     "metadata": {},
     "output_type": "display_data"
    }
   ],
   "source": [
    "#Plot 1:\n",
    "grouped_boarding = metro.groupby(['hour_of_day', 'weekend_weekday'])['boarding'].mean()\n",
    "colors = {'weekend': 'orange', 'weekday': 'blue'}\n",
    "\n",
    "#Creating a line of code that puts my plots side by side:\n",
    "fig, ax = plt.subplots(1, 2, figsize=(12, 6))  \n",
    "\n",
    "#Subplot 1:\n",
    "grouped_boarding.unstack('weekend_weekday').plot(kind='bar', width=0.8, color=colors, ax=ax[0])\n",
    "ax[0].set_xlabel('Hour of Day')\n",
    "ax[0].set_ylabel('Average Number of People')\n",
    "ax[0].set_title('Average Number of People Boarding per Hour \\n (Split by Weekend/Weekday)')\n",
    "ax[0].legend(title='Weekend/Weekday')\n",
    "\n",
    "# Plot 2 - Average Number of People Boarding and Alighting per Hour\n",
    "grouped_boarding = metro.groupby(['hour_of_day'])['boarding'].mean()\n",
    "grouped_alighting = metro.groupby(['hour_of_day'])['alighting'].mean()\n",
    "\n",
    "grouped_boarding.plot(kind='bar', width=0.4, color='red', position=0, label='Boarding', ax=ax[1])\n",
    "grouped_alighting.plot(kind='bar', width=0.4, color='yellow', position=1, label='Alighting', ax=ax[1])\n",
    "ax[1].set_xlabel('Hour of Day')\n",
    "ax[1].set_ylabel('Average Number of People')\n",
    "ax[1].set_title('Average Number of People Boarding and Alighting per Hour \\n (Irrespective of weekend/weekday)')\n",
    "ax[1].legend(title='Alighting/Boarding')\n",
    "\n",
    "\n",
    "tight_layout()\n",
    "show()\n"
   ]
  },
  {
   "cell_type": "code",
   "execution_count": 676,
   "id": "c2ec6403",
   "metadata": {},
   "outputs": [
    {
     "data": {
      "text/html": [
       "<div>\n",
       "<style scoped>\n",
       "    .dataframe tbody tr th:only-of-type {\n",
       "        vertical-align: middle;\n",
       "    }\n",
       "\n",
       "    .dataframe tbody tr th {\n",
       "        vertical-align: top;\n",
       "    }\n",
       "\n",
       "    .dataframe thead th {\n",
       "        text-align: right;\n",
       "    }\n",
       "</style>\n",
       "<table border=\"1\" class=\"dataframe\">\n",
       "  <thead>\n",
       "    <tr style=\"text-align: right;\">\n",
       "      <th></th>\n",
       "      <th>date</th>\n",
       "      <th>boarding</th>\n",
       "      <th>alighting</th>\n",
       "    </tr>\n",
       "    <tr>\n",
       "      <th>New Index</th>\n",
       "      <th></th>\n",
       "      <th></th>\n",
       "      <th></th>\n",
       "    </tr>\n",
       "  </thead>\n",
       "  <tbody>\n",
       "    <tr>\n",
       "      <th>0</th>\n",
       "      <td>2018-09-03</td>\n",
       "      <td>12.281250</td>\n",
       "      <td>11.750000</td>\n",
       "    </tr>\n",
       "    <tr>\n",
       "      <th>1</th>\n",
       "      <td>2018-09-04</td>\n",
       "      <td>76.296875</td>\n",
       "      <td>71.484375</td>\n",
       "    </tr>\n",
       "    <tr>\n",
       "      <th>2</th>\n",
       "      <td>2018-09-05</td>\n",
       "      <td>76.812500</td>\n",
       "      <td>70.734375</td>\n",
       "    </tr>\n",
       "  </tbody>\n",
       "</table>\n",
       "</div>"
      ],
      "text/plain": [
       "                 date   boarding  alighting\n",
       "New Index                                  \n",
       "0          2018-09-03  12.281250  11.750000\n",
       "1          2018-09-04  76.296875  71.484375\n",
       "2          2018-09-05  76.812500  70.734375"
      ]
     },
     "execution_count": 676,
     "metadata": {},
     "output_type": "execute_result"
    }
   ],
   "source": [
    "#Creating a new subset for my next story:\n",
    "weekday_subset = metro[metro['weekend_weekday'] == 'weekday']\n",
    "weekday_subset[:3]\n",
    "\n",
    "dated_weekday = weekday_subset.groupby(['date'])['boarding', 'alighting'].agg('mean')\n",
    "dated_weekday[:2]\n",
    "\n",
    "\n",
    "dated_weekday.reset_index(inplace=True)\n",
    "dated_weekday.index.name = 'New Index'\n",
    "dated_weekday[:3]"
   ]
  },
  {
   "cell_type": "markdown",
   "id": "4bd7218f",
   "metadata": {},
   "source": [
    "**Visual Story 2: Do National Holidays Really Affect Campus?**\n",
    "<br>\n",
    "Something I noticed about our cohort is how many international students there are! With that in mind I wanted to see if National, U.S. Holidays drastically affect the Metro ridership. With Sept/Oct/Nov in our data set, Thanksgiving is included, and yet this is a holiday that many UT Students do not celebrate (since it is an American Holiday).\n",
    "\n",
    "In order to see if holidays do affect campus, despite a large international student body, I have created 2 scatterplots. These scatterplots look at the weekday ridership (since the National Holidays in 2018 fell on weekdays, and ridership on weekends were too low) by dates, and plots the mean boarding and alighting levels. I have implemented another layer in the code that gives the specific dates of points that are obvious outliers. \n",
    "\n",
    "The dates for both boarding and alighting match! Moreover, these dates are National Holidays! 09/03/2018 was Labor Day, and 11/21/2018-11/23/2018 was the Thanksgiving break. So, while our UT does have many international students, they, along with everyone else, are taking advantage of the holidays and avoiding going into campus! *(Though the Metro may have been out of service on the actual Thanksgiving Day...)*"
   ]
  },
  {
   "cell_type": "code",
   "execution_count": 674,
   "id": "f2c0b3d5",
   "metadata": {},
   "outputs": [
    {
     "data": {
      "image/png": "[encoded data removed]",
      "text/plain": [
       "<Figure size 1500x600 with 2 Axes>"
      ]
     },
     "metadata": {},
     "output_type": "display_data"
    }
   ],
   "source": [
    "fig, axs = plt.subplots(1, 2, figsize=(15, 6))\n",
    "\n",
    "#First subplot:\n",
    "axs[0].scatter(dated_weekday['date'], dated_weekday['boarding'], marker='o', color='red', label='Boarding', linestyle='None')\n",
    "\n",
    "axs[0].set_xlabel(\"Date\")\n",
    "axs[0].set_ylabel(\"Number of People Boarding\")\n",
    "axs[0].set_title(\"Date versus Boarding Scatterplot\")\n",
    "\n",
    "#Rotate the x-axis labels\n",
    "axs[0].set_xticklabels(dated_weekday['date'], rotation=90, ha='center')\n",
    "\n",
    "#Label outlier points:\n",
    "for date, boarding in zip(dated_weekday['date'], dated_weekday['boarding']):\n",
    "    if boarding < 30:\n",
    "        axs[0].annotate(f\"{date}\", xy=(date, boarding), xytext=(0, -10), textcoords='offset points', ha='center', color='blue', fontsize=8)\n",
    "\n",
    "#Second: Number of People Alighting\n",
    "axs[1].scatter(dated_weekday['date'], dated_weekday['alighting'], marker='o', color='green', label='Alighting', linestyle='None')\n",
    "\n",
    "axs[1].set_xlabel(\"Date\")\n",
    "axs[1].set_ylabel(\"Number of People Alighting\")\n",
    "axs[1].set_title(\"Date versus Alighting Scatterplot\")\n",
    "\n",
    "#Rotate the x-axis labels\n",
    "axs[1].set_xticklabels(dated_weekday['date'], rotation=90, ha='center')\n",
    "\n",
    "#Label outlier points:\n",
    "for date, alighting in zip(dated_weekday['date'], dated_weekday['alighting']):\n",
    "    if alighting < 30:\n",
    "        axs[1].annotate(f\"{date}\", xy=(date, alighting), xytext=(0, -10), textcoords='offset points', ha='center', color='blue', fontsize=8)\n",
    "\n",
    "plt.tight_layout()\n",
    "plt.show()\n"
   ]
  },
  {
   "cell_type": "code",
   "execution_count": null,
   "id": "ac3e5fd3",
   "metadata": {},
   "outputs": [],
   "source": []
  },
  {
   "cell_type": "code",
   "execution_count": null,
   "id": "053a3473",
   "metadata": {},
   "outputs": [],
   "source": []
  },
  {
   "cell_type": "code",
   "execution_count": null,
   "id": "b589bad8",
   "metadata": {},
   "outputs": [],
   "source": []
  },
  {
   "cell_type": "code",
   "execution_count": null,
   "id": "26e4825b",
   "metadata": {},
   "outputs": [],
   "source": []
  },
  {
   "cell_type": "code",
   "execution_count": null,
   "id": "342befb6",
   "metadata": {},
   "outputs": [],
   "source": []
  },
  {
   "cell_type": "code",
   "execution_count": null,
   "id": "4442d8f9",
   "metadata": {},
   "outputs": [],
   "source": []
  },
  {
   "cell_type": "code",
   "execution_count": null,
   "id": "0c7b8db7",
   "metadata": {},
   "outputs": [],
   "source": []
  },
  {
   "cell_type": "code",
   "execution_count": null,
   "id": "2b59dfc4",
   "metadata": {},
   "outputs": [],
   "source": []
  },
  {
   "cell_type": "code",
   "execution_count": null,
   "id": "74cd6066",
   "metadata": {},
   "outputs": [],
   "source": []
  },
  {
   "cell_type": "code",
   "execution_count": null,
   "id": "1cc84626",
   "metadata": {},
   "outputs": [],
   "source": []
  },
  {
   "cell_type": "code",
   "execution_count": null,
   "id": "beed6ded",
   "metadata": {},
   "outputs": [],
   "source": []
  },
  {
   "cell_type": "code",
   "execution_count": null,
   "id": "8f36bbf8",
   "metadata": {},
   "outputs": [],
   "source": []
  },
  {
   "cell_type": "code",
   "execution_count": null,
   "id": "853e0d61",
   "metadata": {},
   "outputs": [],
   "source": []
  },
  {
   "cell_type": "code",
   "execution_count": null,
   "id": "e437620b",
   "metadata": {},
   "outputs": [],
   "source": []
  }
 ],
 "metadata": {
  "kernelspec": {
   "display_name": "Python 3 (ipykernel)",
   "language": "python",
   "name": "python3"
  },
  "language_info": {
   "codemirror_mode": {
    "name": "ipython",
    "version": 3
   },
   "file_extension": ".py",
   "mimetype": "text/x-python",
   "name": "python",
   "nbconvert_exporter": "python",
   "pygments_lexer": "ipython3",
   "version": "3.10.9"
  }
 },
 "nbformat": 4,
 "nbformat_minor": 5
}
